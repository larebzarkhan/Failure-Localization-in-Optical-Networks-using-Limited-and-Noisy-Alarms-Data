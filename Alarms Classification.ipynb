{
 "cells": [
  {
   "cell_type": "markdown",
   "id": "b09a4a60",
   "metadata": {},
   "source": [
    "## <center> 1. Alarms Classification (Noisy and Failure Alarms)"
   ]
  },
  {
   "cell_type": "markdown",
   "id": "95da73da",
   "metadata": {},
   "source": [
    "Importing required libraries:"
   ]
  },
  {
   "cell_type": "code",
   "execution_count": 1,
   "id": "7909f862",
   "metadata": {},
   "outputs": [],
   "source": [
    "import pandas as pd\n",
    "import numpy as np\n",
    "import matplotlib.pyplot as plt\n",
    "\n",
    "from sklearn.model_selection import train_test_split\n",
    "from feature_engine.encoding import RareLabelEncoder\n",
    "from sklearn import preprocessing\n",
    "from category_encoders import one_hot\n",
    "from sklearn.preprocessing import RobustScaler, MinMaxScaler\n",
    "from sklearn.metrics import roc_curve, auc\n",
    "\n",
    "# plt.style.reload_library()\n",
    "# plt.style.use(['science','notebook'])\n"
   ]
  },
  {
   "cell_type": "markdown",
   "id": "8f877104",
   "metadata": {},
   "source": [
    "Controlling randomness of simulation / For reproducibility of results!"
   ]
  },
  {
   "cell_type": "code",
   "execution_count": 2,
   "id": "ba493908",
   "metadata": {},
   "outputs": [],
   "source": [
    "import os\n",
    "import random\n",
    "import time \n",
    "\n",
    "SEED = 1\n",
    "\n",
    "os.environ['PYTHONHASHSEED'] =str(SEED)\n",
    "os.environ['TF_CUDNN_DETERMINISTIC'] = '1'\n",
    "\n",
    "random.seed(SEED)\n",
    "np.random.seed(SEED)"
   ]
  },
  {
   "cell_type": "code",
   "execution_count": 3,
   "id": "792c02da",
   "metadata": {},
   "outputs": [],
   "source": [
    "service = 1    #select service/subnetwork 1 or 2\n",
    "\n",
    "cols_to_drop = ['Failure_Alarm', 'Magnitude', 'Service', 'Attenuation','Position']    #redundant features\n",
    "cols_to_scale = ['AFFECTEDOBJECTNAME','NENAME', 'ALARMNAME', 'PROBABLECAUSE', 'ADDITIONALTEXT']   #categorical features\n",
    "\n",
    "def get_data():\n",
    "    \n",
    "    df = pd.read_excel('combined_data_for_both_services.xlsx')    #Dataset is now loaded in a Pandas Dataframe\n",
    "    \n",
    "#     print(\"Number of Samples of each service \")\n",
    "#     print(df.Service.value_counts())\n",
    "    \n",
    "    df_service_x = df[df.Service == service].copy()   #considered service\n",
    "    \n",
    "    print(\"\\nShape of dataset before removing duplicates : \", df_service_x.shape)\n",
    "    df_service_x.drop_duplicates(inplace = True)\n",
    "    print(\"\\nShape of dataset after removing duplicates : \", df_service_x.shape)\n",
    "    \n",
    "    return df_service_x.copy()"
   ]
  },
  {
   "cell_type": "markdown",
   "id": "d273d6f2",
   "metadata": {},
   "source": [
    "#### RareLabelEncoder\n",
    "\n",
    "The RareLabelEncoder() groups labels that show a small number of observations in the dataset into a new category called 'Rare'. This helps to avoid overfitting.\n",
    "\n",
    "The argument ' tol ' indicates the percentage of observations that the label needs to have in order not to be re-grouped into the \"Rare\" label.\n",
    "The argument n_categories indicates the minimum number of distinct categories that a variable needs to have for any of the labels to be re-grouped into 'Rare'.\n",
    "\n",
    "n_categories (int, default=10) – the minimum number of categories a variable should have for the encoder to find frequent labels.\n",
    "\n",
    "#### Note:\n",
    "If the number of labels is smaller than n_categories, then the encoder will not group the labels for that variable."
   ]
  },
  {
   "cell_type": "code",
   "execution_count": 4,
   "id": "0c105089",
   "metadata": {},
   "outputs": [],
   "source": [
    "def get_stats_of_dataset(data):\n",
    "    print(\"Number of labels in each feature : \\n\\n\")\n",
    "    for col in data.columns:\n",
    "        print(col, ': ', len(data[col].unique()), ' labels')\n",
    "    \n",
    "    for col in data.columns[0:3]:\n",
    "        print('\\nFeature : ', col)\n",
    "        print(\"\\n\")\n",
    "        print(df_service[col].value_counts().sort_values(ascending=False).head(20))"
   ]
  },
  {
   "cell_type": "code",
   "execution_count": 5,
   "id": "bce23b3f",
   "metadata": {},
   "outputs": [],
   "source": [
    "rare_encoder = RareLabelEncoder(tol=0.01, \n",
    "                                n_categories = 3,\n",
    "                                variables= cols_to_scale)\n",
    "\n",
    "def get_rare_Encoded_Data(df_service_x):\n",
    "    \n",
    "    X = df_service_x.drop(cols_to_drop, axis= 'columns')\n",
    "    y = df_service_x.Failure_Alarm\n",
    "    \n",
    "    X_train, X_test, y_train, y_test = train_test_split(X, y, test_size=0.3, random_state= SEED, shuffle = True, stratify = y)\n",
    "\n",
    "    print(\"Size of training data: \", X_train.shape)\n",
    "    print(\"Size of test data: \", X_test.shape)\n",
    "    \n",
    "    #more realistic scenario; seperate transformation on test and train dataset\n",
    "    rare_encoder.fit(X_train) \n",
    "    \n",
    "    train_t = rare_encoder.transform(X_train)   #transformed training set\n",
    "    test_t = rare_encoder.transform(X_test)\n",
    "    \n",
    "    print(\"Size of Rare encoded training data: \", train_t.shape)\n",
    "    print(\"Size of Rare encoded test data: \", test_t.shape)\n",
    "    \n",
    "    return train_t, test_t, y_train, y_test\n"
   ]
  },
  {
   "cell_type": "code",
   "execution_count": 6,
   "id": "75557613",
   "metadata": {},
   "outputs": [
    {
     "name": "stdout",
     "output_type": "stream",
     "text": [
      "Number of Samples of each service \n",
      "1    2001\n",
      "2    1398\n",
      "Name: Service, dtype: int64\n",
      "\n",
      "Shape of dataset before removing duplicates :  (2001, 11)\n",
      "\n",
      "Shape of dataset after removing duplicates :  (2001, 11)\n"
     ]
    }
   ],
   "source": [
    "df_service = get_data()"
   ]
  },
  {
   "cell_type": "code",
   "execution_count": 7,
   "id": "007268d3",
   "metadata": {
    "scrolled": false
   },
   "outputs": [],
   "source": [
    "# get_stats_of_dataset(df_service)"
   ]
  },
  {
   "cell_type": "code",
   "execution_count": 8,
   "id": "d37021f4",
   "metadata": {},
   "outputs": [
    {
     "name": "stdout",
     "output_type": "stream",
     "text": [
      "Size of training data:  (1400, 6)\n",
      "Size of test data:  (601, 6)\n",
      "Size of Rare encoded training data:  (1400, 6)\n",
      "Size of Rare encoded test data:  (601, 6)\n"
     ]
    }
   ],
   "source": [
    "train_t, test_t, y_train, y_test = get_rare_Encoded_Data(df_service)"
   ]
  },
  {
   "cell_type": "code",
   "execution_count": 9,
   "id": "83046825",
   "metadata": {
    "scrolled": false
   },
   "outputs": [],
   "source": [
    "# get_stats_of_dataset(train_t)"
   ]
  },
  {
   "cell_type": "markdown",
   "id": "f8086d2f",
   "metadata": {},
   "source": [
    "Normalization across instances should be done after splitting the data between training and test set, using only the data from the training set.\n",
    "\n",
    "This is because the test set plays the role of fresh unseen data, so it's not supposed to be accessible at the training stage. Using any information coming from the test set before or during training is a potential bias in the evaluation of the performance.\n",
    "\n",
    "When normalizing the test set, one should apply the normalization parameters previously obtained from the training set as-is. Do not recalculate them on the test set, because they would be inconsistent with the model and this would produce wrong predictions.\n",
    "\n",
    "\n",
    "Source: https://datascience.stackexchange.com/questions/54908/data-normalization-before-or-after-train-test-split"
   ]
  },
  {
   "cell_type": "code",
   "execution_count": 10,
   "id": "bdea326c",
   "metadata": {},
   "outputs": [],
   "source": [
    "rbst_scaler = RobustScaler()   #For normalizing FDN as FDN has wide range of numbers (Robust scaler is robust to noise)\n",
    "\n",
    "# Initiliazing the Category Encoders OHE object\n",
    "ce_ohe = one_hot.OneHotEncoder(use_cat_names = True)\n",
    "\n",
    "#initializing only on training data\n",
    "ce_ohe_fitted = ce_ohe.fit(train_t[cols_to_scale])   \n",
    "rbst_scaler_fitted = rbst_scaler.fit(np.array(train_t['FDN']).reshape(-1, 1))\n",
    "\n",
    "def data_transformer (temp_df):\n",
    "    \n",
    "    ce_dummies = ce_ohe_fitted.transform(temp_df[cols_to_scale])\n",
    "    \n",
    "    temp_df['FDN'] = rbst_scaler_fitted.transform(np.array(temp_df['FDN']).reshape(-1, 1))\n",
    "        \n",
    "    temp_df = temp_df.drop(cols_to_scale , axis = 'columns')\n",
    "    \n",
    "    resultant_df = pd.concat([ce_dummies, temp_df], axis=1, join='inner') \n",
    "    \n",
    "    return resultant_df.copy()   #returns normalized dataset"
   ]
  },
  {
   "cell_type": "code",
   "execution_count": 11,
   "id": "4bc6ab1d",
   "metadata": {},
   "outputs": [],
   "source": [
    "#seperate normalization of test and train data: realistic scenario\n",
    "\n",
    "X_train_encoded = data_transformer(train_t)\n",
    "X_test_encoded = data_transformer(test_t)"
   ]
  },
  {
   "cell_type": "code",
   "execution_count": 12,
   "id": "cb12c062",
   "metadata": {},
   "outputs": [
    {
     "data": {
      "text/plain": [
       "(1400, 94)"
      ]
     },
     "execution_count": 12,
     "metadata": {},
     "output_type": "execute_result"
    }
   ],
   "source": [
    "X_train_encoded.shape"
   ]
  },
  {
   "cell_type": "code",
   "execution_count": 13,
   "id": "10a1fae6",
   "metadata": {},
   "outputs": [
    {
     "data": {
      "text/plain": [
       "(601, 94)"
      ]
     },
     "execution_count": 13,
     "metadata": {},
     "output_type": "execute_result"
    }
   ],
   "source": [
    "X_test_encoded.shape"
   ]
  },
  {
   "cell_type": "code",
   "execution_count": 14,
   "id": "3c0f05be",
   "metadata": {},
   "outputs": [
    {
     "data": {
      "text/plain": [
       "0    779\n",
       "1    621\n",
       "Name: Failure_Alarm, dtype: int64"
      ]
     },
     "execution_count": 14,
     "metadata": {},
     "output_type": "execute_result"
    }
   ],
   "source": [
    "y_train.value_counts()"
   ]
  },
  {
   "cell_type": "code",
   "execution_count": 15,
   "id": "9fdd30fb",
   "metadata": {},
   "outputs": [
    {
     "data": {
      "text/plain": [
       "0    335\n",
       "1    266\n",
       "Name: Failure_Alarm, dtype: int64"
      ]
     },
     "execution_count": 15,
     "metadata": {},
     "output_type": "execute_result"
    }
   ],
   "source": [
    "y_test.value_counts()"
   ]
  },
  {
   "cell_type": "markdown",
   "id": "fa247845",
   "metadata": {},
   "source": [
    "Test and train datasets can have different dimensions (if data normalizer is not fit on only training data), which is not desired for training and testing of ML model. The following statement balances the dimensions of both datasets by discarding max(test_data.size[1], train_data.size[1]) - min(test_data.size[1], train_data.size[1]) number of features.\n"
   ]
  },
  {
   "cell_type": "code",
   "execution_count": 16,
   "id": "6cb2607b",
   "metadata": {},
   "outputs": [],
   "source": [
    "#Though not required here but it is not harming either.\n",
    "final_train, final_test = X_train_encoded.align(X_test_encoded, join='inner', axis=1)  # inner join"
   ]
  },
  {
   "cell_type": "markdown",
   "id": "eebfb56b",
   "metadata": {},
   "source": [
    "There can be unsupported characters in the feature names obtained from raw data. Some sklearn models do not process such features, hence removing such characters from feature names."
   ]
  },
  {
   "cell_type": "code",
   "execution_count": 17,
   "id": "e5575798",
   "metadata": {},
   "outputs": [],
   "source": [
    "import re\n",
    "final_train = final_train.rename(columns = lambda x:re.sub('[^A-Za-z0-9_]+', '', x))\n",
    "final_test = final_test.rename(columns = lambda x:re.sub('[^A-Za-z0-9_]+', '', x))"
   ]
  },
  {
   "cell_type": "code",
   "execution_count": 18,
   "id": "7b38b301",
   "metadata": {},
   "outputs": [
    {
     "data": {
      "text/plain": [
       "((1400, 94), (601, 94))"
      ]
     },
     "execution_count": 18,
     "metadata": {},
     "output_type": "execute_result"
    }
   ],
   "source": [
    "final_train.shape , final_test.shape"
   ]
  },
  {
   "cell_type": "code",
   "execution_count": 19,
   "id": "d51f6604",
   "metadata": {},
   "outputs": [
    {
     "data": {
      "text/plain": [
       "((1400,), (601,))"
      ]
     },
     "execution_count": 19,
     "metadata": {},
     "output_type": "execute_result"
    }
   ],
   "source": [
    "y_train.shape , y_test.shape"
   ]
  },
  {
   "cell_type": "markdown",
   "id": "9a22760c",
   "metadata": {},
   "source": [
    "Up till this point with 1% threshold for rare label encoding, we ended with 109 dimensions of training and test data sets which are quite high considering the number of samples in training dataset (i.e., 955). Hence, using Principal Component Analysis (PCA) to reduce the dimensions further."
   ]
  },
  {
   "attachments": {},
   "cell_type": "markdown",
   "id": "e1e4f56e",
   "metadata": {},
   "source": [
    "#### PCA\n",
    "\n",
    "Principal Component Analysis (PCA) is a linear dimensionality reduction technique that can be utilized for extracting information from a high-dimensional space by projecting  it into a lower-dimensional sub-space. \n",
    "\n",
    "It tries to preserve the essential parts that have more variation of the data and remove the non-essential parts with fewer variation."
   ]
  },
  {
   "cell_type": "code",
   "execution_count": 20,
   "id": "b40401c3",
   "metadata": {},
   "outputs": [
    {
     "data": {
      "text/plain": [
       "(1400, 57)"
      ]
     },
     "execution_count": 20,
     "metadata": {},
     "output_type": "execute_result"
    }
   ],
   "source": [
    "from sklearn.decomposition import PCA    \n",
    "pca = PCA(0.98)                #Figuring out dimensions that contain 98% of information of actual data \n",
    "pca_fitted = pca.fit(final_train)\n",
    "final_train_pca = pca_fitted.transform(final_train)\n",
    "final_train_pca.shape"
   ]
  },
  {
   "cell_type": "markdown",
   "id": "e7f2ff7d",
   "metadata": {},
   "source": [
    "57 dimensions represent 98% of information in our dataset. Applying same transformation of test dataset as well."
   ]
  },
  {
   "cell_type": "code",
   "execution_count": 21,
   "id": "ffc7c48b",
   "metadata": {},
   "outputs": [
    {
     "data": {
      "text/plain": [
       "(601, 57)"
      ]
     },
     "execution_count": 21,
     "metadata": {},
     "output_type": "execute_result"
    }
   ],
   "source": [
    "final_test_pca = pca_fitted.transform(final_test)\n",
    "final_test_pca.shape"
   ]
  },
  {
   "cell_type": "code",
   "execution_count": 22,
   "id": "969c1f80",
   "metadata": {},
   "outputs": [
    {
     "data": {
      "text/plain": [
       "((601, 57), (1400, 57))"
      ]
     },
     "execution_count": 22,
     "metadata": {},
     "output_type": "execute_result"
    }
   ],
   "source": [
    "final_test , final_train = final_test_pca , final_train_pca \n",
    "final_test.shape , final_train.shape"
   ]
  },
  {
   "cell_type": "markdown",
   "id": "dca54c80",
   "metadata": {},
   "source": [
    "## Machine Learning models"
   ]
  },
  {
   "cell_type": "markdown",
   "id": "02148415",
   "metadata": {},
   "source": [
    "#### Hyper-parameter Tuning\n",
    "\n",
    "Using RandomizedSearchCV to reduce number of iterations and with random combination of parameters. This is useful when we have too many parameters to try and our training time is longer. It helps to reduce the cost of computation."
   ]
  },
  {
   "cell_type": "markdown",
   "id": "cb74c934",
   "metadata": {},
   "source": [
    "#### Gamma and C parameters in SVM:\n",
    "\n",
    "Intuitively, the gamma parameter defines how far the influence of a single training example reaches, with low values meaning ‘far’ and high values meaning ‘close’. The gamma parameters can be seen as the inverse of the radius of influence of samples selected by the model as support vectors.\n",
    "\n",
    "The C parameter trades off correct classification of training examples against maximization of the decision function’s margin. For larger values of C, a smaller margin will be accepted if the decision function is better at classifying all training points correctly. A lower C will encourage a larger margin, therefore a simpler decision function, at the cost of training accuracy. In other words C behaves as a regularization parameter in the SVM.\n",
    "\n",
    "Source: https://scikit-learn.org/stable/auto_examples/svm/plot_rbf_parameters.html\n",
    "\n",
    "\n",
    "Interesting explanation: https://www.youtube.com/watch?v=fqhHBCfNy6s"
   ]
  },
  {
   "cell_type": "code",
   "execution_count": 23,
   "id": "d8820276",
   "metadata": {},
   "outputs": [
    {
     "name": "stdout",
     "output_type": "stream",
     "text": [
      "Fitting 5 folds for each of 12 candidates, totalling 60 fits\n"
     ]
    },
    {
     "data": {
      "text/html": [
       "<div>\n",
       "<style scoped>\n",
       "    .dataframe tbody tr th:only-of-type {\n",
       "        vertical-align: middle;\n",
       "    }\n",
       "\n",
       "    .dataframe tbody tr th {\n",
       "        vertical-align: top;\n",
       "    }\n",
       "\n",
       "    .dataframe thead th {\n",
       "        text-align: right;\n",
       "    }\n",
       "</style>\n",
       "<table border=\"1\" class=\"dataframe\">\n",
       "  <thead>\n",
       "    <tr style=\"text-align: right;\">\n",
       "      <th></th>\n",
       "      <th>param_C</th>\n",
       "      <th>param_kernel</th>\n",
       "      <th>mean_test_score</th>\n",
       "    </tr>\n",
       "  </thead>\n",
       "  <tbody>\n",
       "    <tr>\n",
       "      <th>0</th>\n",
       "      <td>5</td>\n",
       "      <td>linear</td>\n",
       "      <td>0.992143</td>\n",
       "    </tr>\n",
       "    <tr>\n",
       "      <th>1</th>\n",
       "      <td>15</td>\n",
       "      <td>linear</td>\n",
       "      <td>0.992143</td>\n",
       "    </tr>\n",
       "    <tr>\n",
       "      <th>2</th>\n",
       "      <td>15</td>\n",
       "      <td>rbf</td>\n",
       "      <td>0.992143</td>\n",
       "    </tr>\n",
       "    <tr>\n",
       "      <th>3</th>\n",
       "      <td>5</td>\n",
       "      <td>rbf</td>\n",
       "      <td>0.983571</td>\n",
       "    </tr>\n",
       "    <tr>\n",
       "      <th>4</th>\n",
       "      <td>25</td>\n",
       "      <td>rbf</td>\n",
       "      <td>0.992143</td>\n",
       "    </tr>\n",
       "    <tr>\n",
       "      <th>5</th>\n",
       "      <td>10</td>\n",
       "      <td>rbf</td>\n",
       "      <td>0.990000</td>\n",
       "    </tr>\n",
       "    <tr>\n",
       "      <th>6</th>\n",
       "      <td>1</td>\n",
       "      <td>linear</td>\n",
       "      <td>0.992143</td>\n",
       "    </tr>\n",
       "    <tr>\n",
       "      <th>7</th>\n",
       "      <td>30</td>\n",
       "      <td>rbf</td>\n",
       "      <td>0.992143</td>\n",
       "    </tr>\n",
       "    <tr>\n",
       "      <th>8</th>\n",
       "      <td>1</td>\n",
       "      <td>rbf</td>\n",
       "      <td>0.959286</td>\n",
       "    </tr>\n",
       "    <tr>\n",
       "      <th>9</th>\n",
       "      <td>30</td>\n",
       "      <td>linear</td>\n",
       "      <td>0.992143</td>\n",
       "    </tr>\n",
       "    <tr>\n",
       "      <th>10</th>\n",
       "      <td>20</td>\n",
       "      <td>linear</td>\n",
       "      <td>0.992143</td>\n",
       "    </tr>\n",
       "    <tr>\n",
       "      <th>11</th>\n",
       "      <td>20</td>\n",
       "      <td>rbf</td>\n",
       "      <td>0.992143</td>\n",
       "    </tr>\n",
       "  </tbody>\n",
       "</table>\n",
       "</div>"
      ],
      "text/plain": [
       "   param_C param_kernel  mean_test_score\n",
       "0        5       linear         0.992143\n",
       "1       15       linear         0.992143\n",
       "2       15          rbf         0.992143\n",
       "3        5          rbf         0.983571\n",
       "4       25          rbf         0.992143\n",
       "5       10          rbf         0.990000\n",
       "6        1       linear         0.992143\n",
       "7       30          rbf         0.992143\n",
       "8        1          rbf         0.959286\n",
       "9       30       linear         0.992143\n",
       "10      20       linear         0.992143\n",
       "11      20          rbf         0.992143"
      ]
     },
     "execution_count": 23,
     "metadata": {},
     "output_type": "execute_result"
    }
   ],
   "source": [
    "from sklearn.model_selection import RandomizedSearchCV\n",
    "from sklearn import svm\n",
    "\n",
    "rs = RandomizedSearchCV(svm.SVC(gamma='auto'), {\n",
    "        'C': [1,5,10,15, 20, 25, 30],\n",
    "        'kernel': ['rbf','linear']\n",
    "    }, \n",
    "                        \n",
    "    cv=5,          #5 folds cross-validation\n",
    "    n_iter= 12,    #number of combinations to check\n",
    "    n_jobs = -1,   #use all processors in parallel\n",
    "    random_state = SEED,\n",
    "    verbose = 100  # For displaying information\n",
    ")\n",
    "\n",
    "rs.fit(final_train, y_train)\n",
    "\n",
    "pd.DataFrame(rs.cv_results_)[['param_C','param_kernel','mean_test_score']]"
   ]
  },
  {
   "cell_type": "code",
   "execution_count": 24,
   "id": "fddc420c",
   "metadata": {},
   "outputs": [
    {
     "name": "stdout",
     "output_type": "stream",
     "text": [
      "Best Score :  0.9921428571428571\n",
      "Best Parameters :  {'kernel': 'linear', 'C': 5}\n"
     ]
    }
   ],
   "source": [
    "print('Best Score : ' , rs.best_score_)\n",
    "print('Best Parameters : ' ,rs.best_params_)"
   ]
  },
  {
   "cell_type": "markdown",
   "id": "f1c3abde",
   "metadata": {},
   "source": [
    "Now define the model with the best performing hyperparameters:\n",
    "Train it and test on the unseen dataset."
   ]
  },
  {
   "cell_type": "code",
   "execution_count": 25,
   "id": "7c707dca",
   "metadata": {},
   "outputs": [
    {
     "data": {
      "text/plain": [
       "0.016954660415649414"
      ]
     },
     "execution_count": 25,
     "metadata": {},
     "output_type": "execute_result"
    }
   ],
   "source": [
    "model_svm = svm.SVC(kernel= rs.best_params_.get('kernel'),C= rs.best_params_.get('C'),gamma='auto', random_state = SEED)\n",
    "\n",
    "#computing training time\n",
    "start_time_svm = time.time()\n",
    "model_svm.fit(final_train, y_train)\n",
    "elapsed_time_svm = time.time() - start_time_svm\n",
    "elapsed_time_svm"
   ]
  },
  {
   "cell_type": "code",
   "execution_count": 26,
   "id": "e315e57b",
   "metadata": {},
   "outputs": [
    {
     "data": {
      "text/plain": [
       "0.9833610648918469"
      ]
     },
     "execution_count": 26,
     "metadata": {},
     "output_type": "execute_result"
    }
   ],
   "source": [
    "model_svm.score(final_test, y_test)"
   ]
  },
  {
   "cell_type": "code",
   "execution_count": 27,
   "id": "70a88436",
   "metadata": {},
   "outputs": [],
   "source": [
    "from sklearn.metrics import confusion_matrix,classification_report\n",
    "import matplotlib.pyplot as plt\n",
    "import seaborn as sn\n",
    "\n",
    "def plot_results(model, X_test, y_test):\n",
    "    y_predicted = model.predict(X_test)\n",
    "    cm = confusion_matrix(y_test, y_predicted)\n",
    "    plt.figure(figsize=(10,7))\n",
    "    sn.heatmap(cm, annot=True, fmt='d')\n",
    "    plt.xlabel('Predicted')\n",
    "    plt.ylabel('Truth')\n",
    "    \n",
    "    print('\\n\\nClassification Report : \\n')\n",
    "    print(classification_report(y_test, y_predicted))\n",
    "    \n",
    "    report = classification_report(y_test, y_predicted, output_dict=True)\n",
    "    \n",
    "    #ROC curve \n",
    "    fpr, tpr, _ = roc_curve(y_test, y_predicted)\n",
    "    auc_t = auc(fpr, tpr)\n",
    "    \n",
    "    plt.figure()\n",
    "    plt.plot(fpr, tpr, marker='.', label='(AUC = %0.4f)' % auc_t)\n",
    "    plt.title('ROC curve')\n",
    "    plt.xlabel('False Positive Rate')\n",
    "    plt.ylabel('True Positive Rate')\n",
    "    plt.legend()\n",
    "    plt.show()\n",
    "    \n",
    "    return fpr, tpr, auc_t, report['macro avg']['f1-score']"
   ]
  },
  {
   "cell_type": "code",
   "execution_count": 28,
   "id": "fad2eecb",
   "metadata": {},
   "outputs": [
    {
     "name": "stdout",
     "output_type": "stream",
     "text": [
      "\n",
      "\n",
      "Classification Report : \n",
      "\n",
      "              precision    recall  f1-score   support\n",
      "\n",
      "           0       1.00      0.97      0.98       335\n",
      "           1       0.96      1.00      0.98       266\n",
      "\n",
      "    accuracy                           0.98       601\n",
      "   macro avg       0.98      0.99      0.98       601\n",
      "weighted avg       0.98      0.98      0.98       601\n",
      "\n"
     ]
    },
    {
     "data": {
      "image/png": "[encoded data removed]",
      "text/plain": [
       "<Figure size 720x504 with 2 Axes>"
      ]
     },
     "metadata": {
      "needs_background": "light"
     },
     "output_type": "display_data"
    },
    {
     "data": {
      "image/png": "[encoded data removed]",
      "text/plain": [
       "<Figure size 432x288 with 1 Axes>"
      ]
     },
     "metadata": {
      "needs_background": "light"
     },
     "output_type": "display_data"
    }
   ],
   "source": [
    "fpr_svm , tpr_svm, auc_svm, f1_score_svm = plot_results(model_svm, final_test, y_test)"
   ]
  },
  {
   "cell_type": "markdown",
   "id": "be1173cc",
   "metadata": {},
   "source": [
    "#### Random Forest"
   ]
  },
  {
   "cell_type": "code",
   "execution_count": 29,
   "id": "6165123b",
   "metadata": {},
   "outputs": [
    {
     "name": "stdout",
     "output_type": "stream",
     "text": [
      "Fitting 5 folds for each of 20 candidates, totalling 100 fits\n"
     ]
    },
    {
     "data": {
      "text/html": [
       "<div>\n",
       "<style scoped>\n",
       "    .dataframe tbody tr th:only-of-type {\n",
       "        vertical-align: middle;\n",
       "    }\n",
       "\n",
       "    .dataframe tbody tr th {\n",
       "        vertical-align: top;\n",
       "    }\n",
       "\n",
       "    .dataframe thead th {\n",
       "        text-align: right;\n",
       "    }\n",
       "</style>\n",
       "<table border=\"1\" class=\"dataframe\">\n",
       "  <thead>\n",
       "    <tr style=\"text-align: right;\">\n",
       "      <th></th>\n",
       "      <th>param_n_estimators</th>\n",
       "      <th>mean_test_score</th>\n",
       "    </tr>\n",
       "  </thead>\n",
       "  <tbody>\n",
       "    <tr>\n",
       "      <th>0</th>\n",
       "      <td>100</td>\n",
       "      <td>0.999286</td>\n",
       "    </tr>\n",
       "    <tr>\n",
       "      <th>1</th>\n",
       "      <td>150</td>\n",
       "      <td>0.998571</td>\n",
       "    </tr>\n",
       "    <tr>\n",
       "      <th>2</th>\n",
       "      <td>15</td>\n",
       "      <td>0.995714</td>\n",
       "    </tr>\n",
       "    <tr>\n",
       "      <th>3</th>\n",
       "      <td>110</td>\n",
       "      <td>0.998571</td>\n",
       "    </tr>\n",
       "    <tr>\n",
       "      <th>4</th>\n",
       "      <td>300</td>\n",
       "      <td>0.999286</td>\n",
       "    </tr>\n",
       "    <tr>\n",
       "      <th>5</th>\n",
       "      <td>140</td>\n",
       "      <td>0.999286</td>\n",
       "    </tr>\n",
       "    <tr>\n",
       "      <th>6</th>\n",
       "      <td>70</td>\n",
       "      <td>1.000000</td>\n",
       "    </tr>\n",
       "    <tr>\n",
       "      <th>7</th>\n",
       "      <td>20</td>\n",
       "      <td>0.997143</td>\n",
       "    </tr>\n",
       "    <tr>\n",
       "      <th>8</th>\n",
       "      <td>10</td>\n",
       "      <td>0.994286</td>\n",
       "    </tr>\n",
       "    <tr>\n",
       "      <th>9</th>\n",
       "      <td>200</td>\n",
       "      <td>0.998571</td>\n",
       "    </tr>\n",
       "    <tr>\n",
       "      <th>10</th>\n",
       "      <td>30</td>\n",
       "      <td>0.998571</td>\n",
       "    </tr>\n",
       "    <tr>\n",
       "      <th>11</th>\n",
       "      <td>40</td>\n",
       "      <td>1.000000</td>\n",
       "    </tr>\n",
       "    <tr>\n",
       "      <th>12</th>\n",
       "      <td>400</td>\n",
       "      <td>0.998571</td>\n",
       "    </tr>\n",
       "    <tr>\n",
       "      <th>13</th>\n",
       "      <td>5</td>\n",
       "      <td>0.997857</td>\n",
       "    </tr>\n",
       "    <tr>\n",
       "      <th>14</th>\n",
       "      <td>130</td>\n",
       "      <td>0.998571</td>\n",
       "    </tr>\n",
       "    <tr>\n",
       "      <th>15</th>\n",
       "      <td>1</td>\n",
       "      <td>0.978571</td>\n",
       "    </tr>\n",
       "    <tr>\n",
       "      <th>16</th>\n",
       "      <td>120</td>\n",
       "      <td>0.999286</td>\n",
       "    </tr>\n",
       "    <tr>\n",
       "      <th>17</th>\n",
       "      <td>1000</td>\n",
       "      <td>0.999286</td>\n",
       "    </tr>\n",
       "    <tr>\n",
       "      <th>18</th>\n",
       "      <td>500</td>\n",
       "      <td>0.998571</td>\n",
       "    </tr>\n",
       "    <tr>\n",
       "      <th>19</th>\n",
       "      <td>60</td>\n",
       "      <td>0.998571</td>\n",
       "    </tr>\n",
       "  </tbody>\n",
       "</table>\n",
       "</div>"
      ],
      "text/plain": [
       "   param_n_estimators  mean_test_score\n",
       "0                 100         0.999286\n",
       "1                 150         0.998571\n",
       "2                  15         0.995714\n",
       "3                 110         0.998571\n",
       "4                 300         0.999286\n",
       "5                 140         0.999286\n",
       "6                  70         1.000000\n",
       "7                  20         0.997143\n",
       "8                  10         0.994286\n",
       "9                 200         0.998571\n",
       "10                 30         0.998571\n",
       "11                 40         1.000000\n",
       "12                400         0.998571\n",
       "13                  5         0.997857\n",
       "14                130         0.998571\n",
       "15                  1         0.978571\n",
       "16                120         0.999286\n",
       "17               1000         0.999286\n",
       "18                500         0.998571\n",
       "19                 60         0.998571"
      ]
     },
     "execution_count": 29,
     "metadata": {},
     "output_type": "execute_result"
    }
   ],
   "source": [
    "from sklearn.ensemble import RandomForestClassifier\n",
    "\n",
    "rs_2 = RandomizedSearchCV(RandomForestClassifier(), {\n",
    "        'n_estimators': [1,5,10,15, 20, 25, 30,40,50,60,70,80,90,100,110,120,130,140,150,200,300,400,500,1000], \n",
    "    }, \n",
    "    cv=5, \n",
    "    n_iter= 20,\n",
    "    n_jobs = -1,   #use all processors in parallel\n",
    "    random_state = SEED,\n",
    "    verbose = 100  # For displaying information\n",
    ")\n",
    "\n",
    "rs_2.fit(final_train, y_train)\n",
    "\n",
    "pd.DataFrame(rs_2.cv_results_)[['param_n_estimators','mean_test_score']]"
   ]
  },
  {
   "cell_type": "code",
   "execution_count": 30,
   "id": "94c3ff44",
   "metadata": {},
   "outputs": [
    {
     "name": "stdout",
     "output_type": "stream",
     "text": [
      "Best Score :  1.0\n",
      "Best Parameters :  {'n_estimators': 70}\n"
     ]
    }
   ],
   "source": [
    "print('Best Score : ' , rs_2.best_score_)\n",
    "print('Best Parameters : ' ,rs_2.best_params_)"
   ]
  },
  {
   "cell_type": "code",
   "execution_count": 31,
   "id": "755330d1",
   "metadata": {},
   "outputs": [
    {
     "data": {
      "text/plain": [
       "0.24004745483398438"
      ]
     },
     "execution_count": 31,
     "metadata": {},
     "output_type": "execute_result"
    }
   ],
   "source": [
    "model_rf = RandomForestClassifier(n_estimators=rs_2.best_params_.get('n_estimators'), random_state = SEED)\n",
    "\n",
    "start_time_rf = time.time()\n",
    "model_rf.fit(final_train, y_train)\n",
    "elapsed_time_rf = time.time() - start_time_rf \n",
    "\n",
    "elapsed_time_rf"
   ]
  },
  {
   "cell_type": "code",
   "execution_count": 32,
   "id": "697da58a",
   "metadata": {},
   "outputs": [
    {
     "data": {
      "text/plain": [
       "0.9983361064891847"
      ]
     },
     "execution_count": 32,
     "metadata": {},
     "output_type": "execute_result"
    }
   ],
   "source": [
    "model_rf.score(final_test, y_test)"
   ]
  },
  {
   "cell_type": "code",
   "execution_count": 33,
   "id": "1a735a4d",
   "metadata": {},
   "outputs": [
    {
     "name": "stdout",
     "output_type": "stream",
     "text": [
      "\n",
      "\n",
      "Classification Report : \n",
      "\n",
      "              precision    recall  f1-score   support\n",
      "\n",
      "           0       1.00      1.00      1.00       335\n",
      "           1       1.00      1.00      1.00       266\n",
      "\n",
      "    accuracy                           1.00       601\n",
      "   macro avg       1.00      1.00      1.00       601\n",
      "weighted avg       1.00      1.00      1.00       601\n",
      "\n"
     ]
    },
    {
     "data": {
      "image/png": "[encoded data removed]",
      "text/plain": [
       "<Figure size 720x504 with 2 Axes>"
      ]
     },
     "metadata": {
      "needs_background": "light"
     },
     "output_type": "display_data"
    },
    {
     "data": {
      "image/png": "[encoded data removed]",
      "text/plain": [
       "<Figure size 432x288 with 1 Axes>"
      ]
     },
     "metadata": {
      "needs_background": "light"
     },
     "output_type": "display_data"
    }
   ],
   "source": [
    "fpr_rf , tpr_rf, auc_rf, f1_score_rf = plot_results(model_rf, final_test, y_test)"
   ]
  },
  {
   "cell_type": "markdown",
   "id": "caa6452c",
   "metadata": {},
   "source": [
    "#### KNN (K Neighrest Neighbour Classifier)"
   ]
  },
  {
   "cell_type": "markdown",
   "id": "7f5e66e6",
   "metadata": {},
   "source": [
    "When k=1 you estimate your probability based on a single sample: your closest neighbor. This is very sensitive to all sort of distortions like noise, outliers, mislabelling of data, and so on. By using a higher value for k, you tend to be more robust against those distortions."
   ]
  },
  {
   "cell_type": "code",
   "execution_count": 34,
   "id": "483f74f1",
   "metadata": {
    "scrolled": false
   },
   "outputs": [
    {
     "name": "stdout",
     "output_type": "stream",
     "text": [
      "Fitting 5 folds for each of 20 candidates, totalling 100 fits\n"
     ]
    },
    {
     "data": {
      "text/html": [
       "<div>\n",
       "<style scoped>\n",
       "    .dataframe tbody tr th:only-of-type {\n",
       "        vertical-align: middle;\n",
       "    }\n",
       "\n",
       "    .dataframe tbody tr th {\n",
       "        vertical-align: top;\n",
       "    }\n",
       "\n",
       "    .dataframe thead th {\n",
       "        text-align: right;\n",
       "    }\n",
       "</style>\n",
       "<table border=\"1\" class=\"dataframe\">\n",
       "  <thead>\n",
       "    <tr style=\"text-align: right;\">\n",
       "      <th></th>\n",
       "      <th>param_n_neighbors</th>\n",
       "      <th>mean_test_score</th>\n",
       "    </tr>\n",
       "  </thead>\n",
       "  <tbody>\n",
       "    <tr>\n",
       "      <th>0</th>\n",
       "      <td>140</td>\n",
       "      <td>0.884286</td>\n",
       "    </tr>\n",
       "    <tr>\n",
       "      <th>1</th>\n",
       "      <td>90</td>\n",
       "      <td>0.892143</td>\n",
       "    </tr>\n",
       "    <tr>\n",
       "      <th>2</th>\n",
       "      <td>25</td>\n",
       "      <td>0.890000</td>\n",
       "    </tr>\n",
       "    <tr>\n",
       "      <th>3</th>\n",
       "      <td>300</td>\n",
       "      <td>0.897857</td>\n",
       "    </tr>\n",
       "    <tr>\n",
       "      <th>4</th>\n",
       "      <td>200</td>\n",
       "      <td>0.865714</td>\n",
       "    </tr>\n",
       "    <tr>\n",
       "      <th>5</th>\n",
       "      <td>130</td>\n",
       "      <td>0.885714</td>\n",
       "    </tr>\n",
       "    <tr>\n",
       "      <th>6</th>\n",
       "      <td>150</td>\n",
       "      <td>0.865714</td>\n",
       "    </tr>\n",
       "    <tr>\n",
       "      <th>7</th>\n",
       "      <td>30</td>\n",
       "      <td>0.905714</td>\n",
       "    </tr>\n",
       "    <tr>\n",
       "      <th>8</th>\n",
       "      <td>20</td>\n",
       "      <td>0.912143</td>\n",
       "    </tr>\n",
       "    <tr>\n",
       "      <th>9</th>\n",
       "      <td>50</td>\n",
       "      <td>0.886429</td>\n",
       "    </tr>\n",
       "    <tr>\n",
       "      <th>10</th>\n",
       "      <td>60</td>\n",
       "      <td>0.882857</td>\n",
       "    </tr>\n",
       "    <tr>\n",
       "      <th>11</th>\n",
       "      <td>15</td>\n",
       "      <td>0.925714</td>\n",
       "    </tr>\n",
       "    <tr>\n",
       "      <th>12</th>\n",
       "      <td>120</td>\n",
       "      <td>0.907857</td>\n",
       "    </tr>\n",
       "    <tr>\n",
       "      <th>13</th>\n",
       "      <td>10</td>\n",
       "      <td>0.939286</td>\n",
       "    </tr>\n",
       "    <tr>\n",
       "      <th>14</th>\n",
       "      <td>500</td>\n",
       "      <td>0.821429</td>\n",
       "    </tr>\n",
       "    <tr>\n",
       "      <th>15</th>\n",
       "      <td>400</td>\n",
       "      <td>0.845714</td>\n",
       "    </tr>\n",
       "    <tr>\n",
       "      <th>16</th>\n",
       "      <td>80</td>\n",
       "      <td>0.887857</td>\n",
       "    </tr>\n",
       "    <tr>\n",
       "      <th>17</th>\n",
       "      <td>70</td>\n",
       "      <td>0.889286</td>\n",
       "    </tr>\n",
       "    <tr>\n",
       "      <th>18</th>\n",
       "      <td>110</td>\n",
       "      <td>0.918571</td>\n",
       "    </tr>\n",
       "    <tr>\n",
       "      <th>19</th>\n",
       "      <td>100</td>\n",
       "      <td>0.906429</td>\n",
       "    </tr>\n",
       "  </tbody>\n",
       "</table>\n",
       "</div>"
      ],
      "text/plain": [
       "   param_n_neighbors  mean_test_score\n",
       "0                140         0.884286\n",
       "1                 90         0.892143\n",
       "2                 25         0.890000\n",
       "3                300         0.897857\n",
       "4                200         0.865714\n",
       "5                130         0.885714\n",
       "6                150         0.865714\n",
       "7                 30         0.905714\n",
       "8                 20         0.912143\n",
       "9                 50         0.886429\n",
       "10                60         0.882857\n",
       "11                15         0.925714\n",
       "12               120         0.907857\n",
       "13                10         0.939286\n",
       "14               500         0.821429\n",
       "15               400         0.845714\n",
       "16                80         0.887857\n",
       "17                70         0.889286\n",
       "18               110         0.918571\n",
       "19               100         0.906429"
      ]
     },
     "execution_count": 34,
     "metadata": {},
     "output_type": "execute_result"
    }
   ],
   "source": [
    "from sklearn.neighbors import KNeighborsClassifier\n",
    "\n",
    "rs_3 = RandomizedSearchCV(KNeighborsClassifier(), {\n",
    "        'n_neighbors': [10,15, 20, 25, 30,40,50,60,70,80,90,100,110,120,130,140,150,200,300,400,500],\n",
    "    }, \n",
    "                          \n",
    "    cv=5, \n",
    "    n_iter= 20,\n",
    "    n_jobs = -1,   #use all processors in parallel\n",
    "    random_state = SEED,\n",
    "    verbose = 100  # For displaying information\n",
    ")\n",
    "\n",
    "rs_3.fit(final_train, y_train)\n",
    "\n",
    "pd.DataFrame(rs_3.cv_results_)[['param_n_neighbors','mean_test_score']]\n"
   ]
  },
  {
   "cell_type": "code",
   "execution_count": 35,
   "id": "bca26d86",
   "metadata": {},
   "outputs": [
    {
     "name": "stdout",
     "output_type": "stream",
     "text": [
      "Best Score :  0.9392857142857143\n",
      "Best Parameters :  {'n_neighbors': 10}\n"
     ]
    }
   ],
   "source": [
    "print('Best Score : ' , rs_3.best_score_)\n",
    "print('Best Parameters : ' ,rs_3.best_params_)"
   ]
  },
  {
   "cell_type": "code",
   "execution_count": 36,
   "id": "d868b10a",
   "metadata": {},
   "outputs": [
    {
     "data": {
      "text/plain": [
       "0.000997304916381836"
      ]
     },
     "execution_count": 36,
     "metadata": {},
     "output_type": "execute_result"
    }
   ],
   "source": [
    "model_knn = KNeighborsClassifier(n_neighbors=rs_3.best_params_.get('n_neighbors'))\n",
    "\n",
    "start_time_knn = time.time()\n",
    "model_knn.fit(final_train, y_train)\n",
    "elapsed_time_knn = time.time() - start_time_knn \n",
    "\n",
    "elapsed_time_knn "
   ]
  },
  {
   "cell_type": "code",
   "execution_count": 37,
   "id": "ddc1b01e",
   "metadata": {},
   "outputs": [
    {
     "data": {
      "text/plain": [
       "0.9267886855241264"
      ]
     },
     "execution_count": 37,
     "metadata": {},
     "output_type": "execute_result"
    }
   ],
   "source": [
    "model_knn.score(final_test, y_test)"
   ]
  },
  {
   "cell_type": "code",
   "execution_count": 38,
   "id": "27119d87",
   "metadata": {},
   "outputs": [
    {
     "name": "stdout",
     "output_type": "stream",
     "text": [
      "\n",
      "\n",
      "Classification Report : \n",
      "\n",
      "              precision    recall  f1-score   support\n",
      "\n",
      "           0       0.94      0.92      0.93       335\n",
      "           1       0.91      0.93      0.92       266\n",
      "\n",
      "    accuracy                           0.93       601\n",
      "   macro avg       0.93      0.93      0.93       601\n",
      "weighted avg       0.93      0.93      0.93       601\n",
      "\n"
     ]
    },
    {
     "data": {
      "image/png": "[encoded data removed]",
      "text/plain": [
       "<Figure size 720x504 with 2 Axes>"
      ]
     },
     "metadata": {
      "needs_background": "light"
     },
     "output_type": "display_data"
    },
    {
     "data": {
      "image/png": "[encoded data removed]",
      "text/plain": [
       "<Figure size 432x288 with 1 Axes>"
      ]
     },
     "metadata": {
      "needs_background": "light"
     },
     "output_type": "display_data"
    }
   ],
   "source": [
    "fpr_knn , tpr_knn, auc_knn, f1_score_knn = plot_results(model_knn, final_test, y_test)"
   ]
  },
  {
   "cell_type": "markdown",
   "id": "94a68832",
   "metadata": {},
   "source": [
    "#### Gradient Boosting Classifier"
   ]
  },
  {
   "cell_type": "code",
   "execution_count": 39,
   "id": "4057facd",
   "metadata": {},
   "outputs": [],
   "source": [
    "from sklearn.ensemble import GradientBoostingClassifier"
   ]
  },
  {
   "cell_type": "code",
   "execution_count": 40,
   "id": "d800e3c8",
   "metadata": {},
   "outputs": [
    {
     "name": "stdout",
     "output_type": "stream",
     "text": [
      "Fitting 5 folds for each of 30 candidates, totalling 150 fits\n"
     ]
    },
    {
     "data": {
      "text/html": [
       "<div>\n",
       "<style scoped>\n",
       "    .dataframe tbody tr th:only-of-type {\n",
       "        vertical-align: middle;\n",
       "    }\n",
       "\n",
       "    .dataframe tbody tr th {\n",
       "        vertical-align: top;\n",
       "    }\n",
       "\n",
       "    .dataframe thead th {\n",
       "        text-align: right;\n",
       "    }\n",
       "</style>\n",
       "<table border=\"1\" class=\"dataframe\">\n",
       "  <thead>\n",
       "    <tr style=\"text-align: right;\">\n",
       "      <th></th>\n",
       "      <th>param_n_estimators</th>\n",
       "      <th>param_learning_rate</th>\n",
       "      <th>mean_test_score</th>\n",
       "    </tr>\n",
       "  </thead>\n",
       "  <tbody>\n",
       "    <tr>\n",
       "      <th>0</th>\n",
       "      <td>300</td>\n",
       "      <td>0.075</td>\n",
       "      <td>0.998571</td>\n",
       "    </tr>\n",
       "    <tr>\n",
       "      <th>1</th>\n",
       "      <td>400</td>\n",
       "      <td>0.025</td>\n",
       "      <td>0.998571</td>\n",
       "    </tr>\n",
       "    <tr>\n",
       "      <th>2</th>\n",
       "      <td>140</td>\n",
       "      <td>0.5</td>\n",
       "      <td>0.998571</td>\n",
       "    </tr>\n",
       "    <tr>\n",
       "      <th>3</th>\n",
       "      <td>80</td>\n",
       "      <td>0.075</td>\n",
       "      <td>0.998571</td>\n",
       "    </tr>\n",
       "    <tr>\n",
       "      <th>4</th>\n",
       "      <td>110</td>\n",
       "      <td>0.75</td>\n",
       "      <td>0.998571</td>\n",
       "    </tr>\n",
       "    <tr>\n",
       "      <th>5</th>\n",
       "      <td>80</td>\n",
       "      <td>0.05</td>\n",
       "      <td>0.994286</td>\n",
       "    </tr>\n",
       "    <tr>\n",
       "      <th>6</th>\n",
       "      <td>10</td>\n",
       "      <td>0.25</td>\n",
       "      <td>0.986429</td>\n",
       "    </tr>\n",
       "    <tr>\n",
       "      <th>7</th>\n",
       "      <td>60</td>\n",
       "      <td>0.001</td>\n",
       "      <td>0.556429</td>\n",
       "    </tr>\n",
       "    <tr>\n",
       "      <th>8</th>\n",
       "      <td>110</td>\n",
       "      <td>0.1</td>\n",
       "      <td>0.998571</td>\n",
       "    </tr>\n",
       "    <tr>\n",
       "      <th>9</th>\n",
       "      <td>90</td>\n",
       "      <td>0.75</td>\n",
       "      <td>0.998571</td>\n",
       "    </tr>\n",
       "    <tr>\n",
       "      <th>10</th>\n",
       "      <td>20</td>\n",
       "      <td>0.75</td>\n",
       "      <td>0.998571</td>\n",
       "    </tr>\n",
       "    <tr>\n",
       "      <th>11</th>\n",
       "      <td>40</td>\n",
       "      <td>0.25</td>\n",
       "      <td>0.998571</td>\n",
       "    </tr>\n",
       "    <tr>\n",
       "      <th>12</th>\n",
       "      <td>25</td>\n",
       "      <td>0.075</td>\n",
       "      <td>0.982143</td>\n",
       "    </tr>\n",
       "    <tr>\n",
       "      <th>13</th>\n",
       "      <td>130</td>\n",
       "      <td>0.05</td>\n",
       "      <td>0.998571</td>\n",
       "    </tr>\n",
       "    <tr>\n",
       "      <th>14</th>\n",
       "      <td>90</td>\n",
       "      <td>0.1</td>\n",
       "      <td>0.998571</td>\n",
       "    </tr>\n",
       "    <tr>\n",
       "      <th>15</th>\n",
       "      <td>200</td>\n",
       "      <td>0.025</td>\n",
       "      <td>0.996429</td>\n",
       "    </tr>\n",
       "    <tr>\n",
       "      <th>16</th>\n",
       "      <td>20</td>\n",
       "      <td>0.075</td>\n",
       "      <td>0.974286</td>\n",
       "    </tr>\n",
       "    <tr>\n",
       "      <th>17</th>\n",
       "      <td>15</td>\n",
       "      <td>0.025</td>\n",
       "      <td>0.952143</td>\n",
       "    </tr>\n",
       "    <tr>\n",
       "      <th>18</th>\n",
       "      <td>40</td>\n",
       "      <td>0.075</td>\n",
       "      <td>0.990714</td>\n",
       "    </tr>\n",
       "    <tr>\n",
       "      <th>19</th>\n",
       "      <td>80</td>\n",
       "      <td>0.5</td>\n",
       "      <td>0.998571</td>\n",
       "    </tr>\n",
       "    <tr>\n",
       "      <th>20</th>\n",
       "      <td>1000</td>\n",
       "      <td>0.075</td>\n",
       "      <td>0.998571</td>\n",
       "    </tr>\n",
       "    <tr>\n",
       "      <th>21</th>\n",
       "      <td>20</td>\n",
       "      <td>0.05</td>\n",
       "      <td>0.965714</td>\n",
       "    </tr>\n",
       "    <tr>\n",
       "      <th>22</th>\n",
       "      <td>5</td>\n",
       "      <td>0.1</td>\n",
       "      <td>0.954286</td>\n",
       "    </tr>\n",
       "    <tr>\n",
       "      <th>23</th>\n",
       "      <td>200</td>\n",
       "      <td>0.75</td>\n",
       "      <td>0.998571</td>\n",
       "    </tr>\n",
       "    <tr>\n",
       "      <th>24</th>\n",
       "      <td>50</td>\n",
       "      <td>0.025</td>\n",
       "      <td>0.968571</td>\n",
       "    </tr>\n",
       "    <tr>\n",
       "      <th>25</th>\n",
       "      <td>70</td>\n",
       "      <td>0.1</td>\n",
       "      <td>0.998571</td>\n",
       "    </tr>\n",
       "    <tr>\n",
       "      <th>26</th>\n",
       "      <td>50</td>\n",
       "      <td>0.5</td>\n",
       "      <td>0.998571</td>\n",
       "    </tr>\n",
       "    <tr>\n",
       "      <th>27</th>\n",
       "      <td>70</td>\n",
       "      <td>0.001</td>\n",
       "      <td>0.556429</td>\n",
       "    </tr>\n",
       "    <tr>\n",
       "      <th>28</th>\n",
       "      <td>25</td>\n",
       "      <td>0.025</td>\n",
       "      <td>0.959286</td>\n",
       "    </tr>\n",
       "    <tr>\n",
       "      <th>29</th>\n",
       "      <td>70</td>\n",
       "      <td>0.25</td>\n",
       "      <td>0.998571</td>\n",
       "    </tr>\n",
       "  </tbody>\n",
       "</table>\n",
       "</div>"
      ],
      "text/plain": [
       "   param_n_estimators param_learning_rate  mean_test_score\n",
       "0                 300               0.075         0.998571\n",
       "1                 400               0.025         0.998571\n",
       "2                 140                 0.5         0.998571\n",
       "3                  80               0.075         0.998571\n",
       "4                 110                0.75         0.998571\n",
       "5                  80                0.05         0.994286\n",
       "6                  10                0.25         0.986429\n",
       "7                  60               0.001         0.556429\n",
       "8                 110                 0.1         0.998571\n",
       "9                  90                0.75         0.998571\n",
       "10                 20                0.75         0.998571\n",
       "11                 40                0.25         0.998571\n",
       "12                 25               0.075         0.982143\n",
       "13                130                0.05         0.998571\n",
       "14                 90                 0.1         0.998571\n",
       "15                200               0.025         0.996429\n",
       "16                 20               0.075         0.974286\n",
       "17                 15               0.025         0.952143\n",
       "18                 40               0.075         0.990714\n",
       "19                 80                 0.5         0.998571\n",
       "20               1000               0.075         0.998571\n",
       "21                 20                0.05         0.965714\n",
       "22                  5                 0.1         0.954286\n",
       "23                200                0.75         0.998571\n",
       "24                 50               0.025         0.968571\n",
       "25                 70                 0.1         0.998571\n",
       "26                 50                 0.5         0.998571\n",
       "27                 70               0.001         0.556429\n",
       "28                 25               0.025         0.959286\n",
       "29                 70                0.25         0.998571"
      ]
     },
     "execution_count": 40,
     "metadata": {},
     "output_type": "execute_result"
    }
   ],
   "source": [
    "rs_4 = RandomizedSearchCV(GradientBoostingClassifier(), {\n",
    "        'n_estimators': [1,5,10,15, 20, 25, 30,40,50,60,70,80,90,100,110,120,130,140,150,200,300,400,500,1000],\n",
    "        'learning_rate' : [0.05, 0.075, 0.025, 0.001, 0.1, 0.25, 0.5, 0.75]\n",
    "    }, \n",
    "                          \n",
    "    cv=5, \n",
    "    n_iter= 30,\n",
    "    n_jobs = -1,   #use all processors in parallel\n",
    "    random_state = SEED,\n",
    "    verbose = 100  # For displaying information\n",
    ")\n",
    "\n",
    "rs_4.fit(final_train, y_train)\n",
    "\n",
    "pd.DataFrame(rs_4.cv_results_)[['param_n_estimators','param_learning_rate','mean_test_score']]"
   ]
  },
  {
   "cell_type": "code",
   "execution_count": 41,
   "id": "348dfb90",
   "metadata": {},
   "outputs": [
    {
     "name": "stdout",
     "output_type": "stream",
     "text": [
      "Best Score :  0.9985714285714286\n",
      "Best Parameters :  {'n_estimators': 300, 'learning_rate': 0.075}\n"
     ]
    }
   ],
   "source": [
    "print('Best Score : ' , rs_4.best_score_)\n",
    "print('Best Parameters : ' ,rs_4.best_params_)"
   ]
  },
  {
   "cell_type": "code",
   "execution_count": 42,
   "id": "7f10ae0b",
   "metadata": {},
   "outputs": [
    {
     "data": {
      "text/plain": [
       "3.305880546569824"
      ]
     },
     "execution_count": 42,
     "metadata": {},
     "output_type": "execute_result"
    }
   ],
   "source": [
    "model_gbc = GradientBoostingClassifier(n_estimators = rs_4.best_params_.get('n_estimators'), learning_rate = rs_4.best_params_.get('learning_rate'), random_state = SEED)\n",
    "\n",
    "start_time_gbc = time.time()\n",
    "model_gbc.fit(final_train, y_train)\n",
    "elapsed_time_gbc = time.time() - start_time_gbc \n",
    "elapsed_time_gbc\n"
   ]
  },
  {
   "cell_type": "code",
   "execution_count": 43,
   "id": "f8ff444b",
   "metadata": {},
   "outputs": [
    {
     "data": {
      "text/plain": [
       "0.9983361064891847"
      ]
     },
     "execution_count": 43,
     "metadata": {},
     "output_type": "execute_result"
    }
   ],
   "source": [
    "model_gbc.score(final_test, y_test)"
   ]
  },
  {
   "cell_type": "code",
   "execution_count": 44,
   "id": "75498f2f",
   "metadata": {},
   "outputs": [
    {
     "name": "stdout",
     "output_type": "stream",
     "text": [
      "\n",
      "\n",
      "Classification Report : \n",
      "\n",
      "              precision    recall  f1-score   support\n",
      "\n",
      "           0       1.00      1.00      1.00       335\n",
      "           1       1.00      1.00      1.00       266\n",
      "\n",
      "    accuracy                           1.00       601\n",
      "   macro avg       1.00      1.00      1.00       601\n",
      "weighted avg       1.00      1.00      1.00       601\n",
      "\n"
     ]
    },
    {
     "data": {
      "image/png": "[encoded data removed]",
      "text/plain": [
       "<Figure size 720x504 with 2 Axes>"
      ]
     },
     "metadata": {
      "needs_background": "light"
     },
     "output_type": "display_data"
    },
    {
     "data": {
      "image/png": "[encoded data removed]",
      "text/plain": [
       "<Figure size 432x288 with 1 Axes>"
      ]
     },
     "metadata": {
      "needs_background": "light"
     },
     "output_type": "display_data"
    }
   ],
   "source": [
    "fpr_gb , tpr_gb, auc_gb, f1_score_gbc = plot_results(model_gbc, final_test, y_test)"
   ]
  },
  {
   "cell_type": "markdown",
   "id": "92ff39ac",
   "metadata": {},
   "source": [
    "#### XGBoost Classifier"
   ]
  },
  {
   "cell_type": "code",
   "execution_count": 45,
   "id": "0767d2ce",
   "metadata": {},
   "outputs": [],
   "source": [
    "from xgboost import XGBClassifier"
   ]
  },
  {
   "cell_type": "code",
   "execution_count": 46,
   "id": "a3d4805c",
   "metadata": {},
   "outputs": [
    {
     "name": "stdout",
     "output_type": "stream",
     "text": [
      "Fitting 5 folds for each of 30 candidates, totalling 150 fits\n"
     ]
    },
    {
     "data": {
      "text/html": [
       "<div>\n",
       "<style scoped>\n",
       "    .dataframe tbody tr th:only-of-type {\n",
       "        vertical-align: middle;\n",
       "    }\n",
       "\n",
       "    .dataframe tbody tr th {\n",
       "        vertical-align: top;\n",
       "    }\n",
       "\n",
       "    .dataframe thead th {\n",
       "        text-align: right;\n",
       "    }\n",
       "</style>\n",
       "<table border=\"1\" class=\"dataframe\">\n",
       "  <thead>\n",
       "    <tr style=\"text-align: right;\">\n",
       "      <th></th>\n",
       "      <th>param_n_estimators</th>\n",
       "      <th>param_learning_rate</th>\n",
       "      <th>mean_test_score</th>\n",
       "    </tr>\n",
       "  </thead>\n",
       "  <tbody>\n",
       "    <tr>\n",
       "      <th>0</th>\n",
       "      <td>300</td>\n",
       "      <td>0.075</td>\n",
       "      <td>0.999286</td>\n",
       "    </tr>\n",
       "    <tr>\n",
       "      <th>1</th>\n",
       "      <td>400</td>\n",
       "      <td>0.025</td>\n",
       "      <td>0.999286</td>\n",
       "    </tr>\n",
       "    <tr>\n",
       "      <th>2</th>\n",
       "      <td>140</td>\n",
       "      <td>0.5</td>\n",
       "      <td>0.999286</td>\n",
       "    </tr>\n",
       "    <tr>\n",
       "      <th>3</th>\n",
       "      <td>80</td>\n",
       "      <td>0.075</td>\n",
       "      <td>0.998571</td>\n",
       "    </tr>\n",
       "    <tr>\n",
       "      <th>4</th>\n",
       "      <td>110</td>\n",
       "      <td>0.75</td>\n",
       "      <td>0.999286</td>\n",
       "    </tr>\n",
       "    <tr>\n",
       "      <th>5</th>\n",
       "      <td>80</td>\n",
       "      <td>0.05</td>\n",
       "      <td>0.996429</td>\n",
       "    </tr>\n",
       "    <tr>\n",
       "      <th>6</th>\n",
       "      <td>10</td>\n",
       "      <td>0.25</td>\n",
       "      <td>0.995714</td>\n",
       "    </tr>\n",
       "    <tr>\n",
       "      <th>7</th>\n",
       "      <td>60</td>\n",
       "      <td>0.001</td>\n",
       "      <td>0.969286</td>\n",
       "    </tr>\n",
       "    <tr>\n",
       "      <th>8</th>\n",
       "      <td>110</td>\n",
       "      <td>0.1</td>\n",
       "      <td>0.999286</td>\n",
       "    </tr>\n",
       "    <tr>\n",
       "      <th>9</th>\n",
       "      <td>90</td>\n",
       "      <td>0.75</td>\n",
       "      <td>0.999286</td>\n",
       "    </tr>\n",
       "    <tr>\n",
       "      <th>10</th>\n",
       "      <td>20</td>\n",
       "      <td>0.75</td>\n",
       "      <td>0.999286</td>\n",
       "    </tr>\n",
       "    <tr>\n",
       "      <th>11</th>\n",
       "      <td>40</td>\n",
       "      <td>0.25</td>\n",
       "      <td>0.998571</td>\n",
       "    </tr>\n",
       "    <tr>\n",
       "      <th>12</th>\n",
       "      <td>25</td>\n",
       "      <td>0.075</td>\n",
       "      <td>0.992143</td>\n",
       "    </tr>\n",
       "    <tr>\n",
       "      <th>13</th>\n",
       "      <td>130</td>\n",
       "      <td>0.05</td>\n",
       "      <td>0.998571</td>\n",
       "    </tr>\n",
       "    <tr>\n",
       "      <th>14</th>\n",
       "      <td>90</td>\n",
       "      <td>0.1</td>\n",
       "      <td>0.999286</td>\n",
       "    </tr>\n",
       "    <tr>\n",
       "      <th>15</th>\n",
       "      <td>200</td>\n",
       "      <td>0.025</td>\n",
       "      <td>0.996429</td>\n",
       "    </tr>\n",
       "    <tr>\n",
       "      <th>16</th>\n",
       "      <td>20</td>\n",
       "      <td>0.075</td>\n",
       "      <td>0.991429</td>\n",
       "    </tr>\n",
       "    <tr>\n",
       "      <th>17</th>\n",
       "      <td>15</td>\n",
       "      <td>0.025</td>\n",
       "      <td>0.970714</td>\n",
       "    </tr>\n",
       "    <tr>\n",
       "      <th>18</th>\n",
       "      <td>40</td>\n",
       "      <td>0.075</td>\n",
       "      <td>0.995714</td>\n",
       "    </tr>\n",
       "    <tr>\n",
       "      <th>19</th>\n",
       "      <td>80</td>\n",
       "      <td>0.5</td>\n",
       "      <td>0.999286</td>\n",
       "    </tr>\n",
       "    <tr>\n",
       "      <th>20</th>\n",
       "      <td>1000</td>\n",
       "      <td>0.075</td>\n",
       "      <td>0.999286</td>\n",
       "    </tr>\n",
       "    <tr>\n",
       "      <th>21</th>\n",
       "      <td>20</td>\n",
       "      <td>0.05</td>\n",
       "      <td>0.983571</td>\n",
       "    </tr>\n",
       "    <tr>\n",
       "      <th>22</th>\n",
       "      <td>5</td>\n",
       "      <td>0.1</td>\n",
       "      <td>0.977857</td>\n",
       "    </tr>\n",
       "    <tr>\n",
       "      <th>23</th>\n",
       "      <td>200</td>\n",
       "      <td>0.75</td>\n",
       "      <td>0.999286</td>\n",
       "    </tr>\n",
       "    <tr>\n",
       "      <th>24</th>\n",
       "      <td>50</td>\n",
       "      <td>0.025</td>\n",
       "      <td>0.987857</td>\n",
       "    </tr>\n",
       "    <tr>\n",
       "      <th>25</th>\n",
       "      <td>70</td>\n",
       "      <td>0.1</td>\n",
       "      <td>0.998571</td>\n",
       "    </tr>\n",
       "    <tr>\n",
       "      <th>26</th>\n",
       "      <td>50</td>\n",
       "      <td>0.5</td>\n",
       "      <td>0.999286</td>\n",
       "    </tr>\n",
       "    <tr>\n",
       "      <th>27</th>\n",
       "      <td>70</td>\n",
       "      <td>0.001</td>\n",
       "      <td>0.969286</td>\n",
       "    </tr>\n",
       "    <tr>\n",
       "      <th>28</th>\n",
       "      <td>25</td>\n",
       "      <td>0.025</td>\n",
       "      <td>0.977857</td>\n",
       "    </tr>\n",
       "    <tr>\n",
       "      <th>29</th>\n",
       "      <td>70</td>\n",
       "      <td>0.25</td>\n",
       "      <td>0.998571</td>\n",
       "    </tr>\n",
       "  </tbody>\n",
       "</table>\n",
       "</div>"
      ],
      "text/plain": [
       "   param_n_estimators param_learning_rate  mean_test_score\n",
       "0                 300               0.075         0.999286\n",
       "1                 400               0.025         0.999286\n",
       "2                 140                 0.5         0.999286\n",
       "3                  80               0.075         0.998571\n",
       "4                 110                0.75         0.999286\n",
       "5                  80                0.05         0.996429\n",
       "6                  10                0.25         0.995714\n",
       "7                  60               0.001         0.969286\n",
       "8                 110                 0.1         0.999286\n",
       "9                  90                0.75         0.999286\n",
       "10                 20                0.75         0.999286\n",
       "11                 40                0.25         0.998571\n",
       "12                 25               0.075         0.992143\n",
       "13                130                0.05         0.998571\n",
       "14                 90                 0.1         0.999286\n",
       "15                200               0.025         0.996429\n",
       "16                 20               0.075         0.991429\n",
       "17                 15               0.025         0.970714\n",
       "18                 40               0.075         0.995714\n",
       "19                 80                 0.5         0.999286\n",
       "20               1000               0.075         0.999286\n",
       "21                 20                0.05         0.983571\n",
       "22                  5                 0.1         0.977857\n",
       "23                200                0.75         0.999286\n",
       "24                 50               0.025         0.987857\n",
       "25                 70                 0.1         0.998571\n",
       "26                 50                 0.5         0.999286\n",
       "27                 70               0.001         0.969286\n",
       "28                 25               0.025         0.977857\n",
       "29                 70                0.25         0.998571"
      ]
     },
     "execution_count": 46,
     "metadata": {},
     "output_type": "execute_result"
    }
   ],
   "source": [
    "rs_5 = RandomizedSearchCV(XGBClassifier(objective = 'binary:logistic'), {\n",
    "        'n_estimators': [1,5,10,15, 20, 25, 30,40,50,60,70,80,90,100,110,120,130,140,150,200,300,400,500,1000],\n",
    "        'learning_rate' : [0.05, 0.075, 0.025, 0.001, 0.1, 0.25, 0.5, 0.75]\n",
    "    }, \n",
    "    cv=5, \n",
    "    n_iter= 30,\n",
    "    n_jobs = -1,   #use all processors in parallel\n",
    "    random_state = SEED,\n",
    "    verbose = 100  # For displaying information\n",
    ")\n",
    "\n",
    "rs_5.fit(final_train, y_train)\n",
    "\n",
    "pd.DataFrame(rs_5.cv_results_)[['param_n_estimators','param_learning_rate','mean_test_score']]\n"
   ]
  },
  {
   "cell_type": "code",
   "execution_count": 47,
   "id": "a1427ed9",
   "metadata": {},
   "outputs": [
    {
     "name": "stdout",
     "output_type": "stream",
     "text": [
      "Best Score :  0.9992857142857143\n",
      "Best Parameters :  {'n_estimators': 300, 'learning_rate': 0.075}\n"
     ]
    }
   ],
   "source": [
    "print('Best Score : ' , rs_5.best_score_)\n",
    "print('Best Parameters : ' ,rs_5.best_params_)"
   ]
  },
  {
   "cell_type": "code",
   "execution_count": 48,
   "id": "978b39e3",
   "metadata": {},
   "outputs": [
    {
     "data": {
      "text/plain": [
       "0.3331422805786133"
      ]
     },
     "execution_count": 48,
     "metadata": {},
     "output_type": "execute_result"
    }
   ],
   "source": [
    "model_xgbc = XGBClassifier(n_estimators = rs_5.best_params_.get('n_estimators'), learning_rate = rs_5.best_params_.get('learning_rate'), objective = 'binary:logistic', random_state = SEED)\n",
    "\n",
    "start_time_xgbc = time.time()\n",
    "model_xgbc.fit(final_train, y_train)\n",
    "elapsed_time_xgbc = time.time() - start_time_xgbc \n",
    "elapsed_time_xgbc"
   ]
  },
  {
   "cell_type": "code",
   "execution_count": 49,
   "id": "74789504",
   "metadata": {},
   "outputs": [
    {
     "data": {
      "text/plain": [
       "0.9983361064891847"
      ]
     },
     "execution_count": 49,
     "metadata": {},
     "output_type": "execute_result"
    }
   ],
   "source": [
    "model_xgbc.score(final_test, y_test)"
   ]
  },
  {
   "cell_type": "code",
   "execution_count": 50,
   "id": "51c9e668",
   "metadata": {},
   "outputs": [
    {
     "name": "stdout",
     "output_type": "stream",
     "text": [
      "\n",
      "\n",
      "Classification Report : \n",
      "\n",
      "              precision    recall  f1-score   support\n",
      "\n",
      "           0       1.00      1.00      1.00       335\n",
      "           1       1.00      1.00      1.00       266\n",
      "\n",
      "    accuracy                           1.00       601\n",
      "   macro avg       1.00      1.00      1.00       601\n",
      "weighted avg       1.00      1.00      1.00       601\n",
      "\n"
     ]
    },
    {
     "data": {
      "image/png": "[encoded data removed]",
      "text/plain": [
       "<Figure size 720x504 with 2 Axes>"
      ]
     },
     "metadata": {
      "needs_background": "light"
     },
     "output_type": "display_data"
    },
    {
     "data": {
      "image/png": "[encoded data removed]",
      "text/plain": [
       "<Figure size 432x288 with 1 Axes>"
      ]
     },
     "metadata": {
      "needs_background": "light"
     },
     "output_type": "display_data"
    }
   ],
   "source": [
    "fpr_xgb , tpr_xgb, auc_xgb, f1_score_xgbc = plot_results(model_xgbc, final_test, y_test)"
   ]
  },
  {
   "cell_type": "code",
   "execution_count": 51,
   "id": "1b73e66e",
   "metadata": {},
   "outputs": [],
   "source": [
    "from lightgbm import LGBMClassifier"
   ]
  },
  {
   "cell_type": "code",
   "execution_count": 52,
   "id": "edbece46",
   "metadata": {},
   "outputs": [
    {
     "name": "stdout",
     "output_type": "stream",
     "text": [
      "Fitting 5 folds for each of 30 candidates, totalling 150 fits\n"
     ]
    },
    {
     "data": {
      "text/html": [
       "<div>\n",
       "<style scoped>\n",
       "    .dataframe tbody tr th:only-of-type {\n",
       "        vertical-align: middle;\n",
       "    }\n",
       "\n",
       "    .dataframe tbody tr th {\n",
       "        vertical-align: top;\n",
       "    }\n",
       "\n",
       "    .dataframe thead th {\n",
       "        text-align: right;\n",
       "    }\n",
       "</style>\n",
       "<table border=\"1\" class=\"dataframe\">\n",
       "  <thead>\n",
       "    <tr style=\"text-align: right;\">\n",
       "      <th></th>\n",
       "      <th>param_n_estimators</th>\n",
       "      <th>param_learning_rate</th>\n",
       "      <th>mean_test_score</th>\n",
       "    </tr>\n",
       "  </thead>\n",
       "  <tbody>\n",
       "    <tr>\n",
       "      <th>0</th>\n",
       "      <td>300</td>\n",
       "      <td>0.075</td>\n",
       "      <td>1.000000</td>\n",
       "    </tr>\n",
       "    <tr>\n",
       "      <th>1</th>\n",
       "      <td>400</td>\n",
       "      <td>0.025</td>\n",
       "      <td>1.000000</td>\n",
       "    </tr>\n",
       "    <tr>\n",
       "      <th>2</th>\n",
       "      <td>140</td>\n",
       "      <td>0.5</td>\n",
       "      <td>0.999286</td>\n",
       "    </tr>\n",
       "    <tr>\n",
       "      <th>3</th>\n",
       "      <td>80</td>\n",
       "      <td>0.075</td>\n",
       "      <td>0.999286</td>\n",
       "    </tr>\n",
       "    <tr>\n",
       "      <th>4</th>\n",
       "      <td>110</td>\n",
       "      <td>0.75</td>\n",
       "      <td>0.998571</td>\n",
       "    </tr>\n",
       "    <tr>\n",
       "      <th>5</th>\n",
       "      <td>80</td>\n",
       "      <td>0.05</td>\n",
       "      <td>0.995714</td>\n",
       "    </tr>\n",
       "    <tr>\n",
       "      <th>6</th>\n",
       "      <td>10</td>\n",
       "      <td>0.25</td>\n",
       "      <td>0.993571</td>\n",
       "    </tr>\n",
       "    <tr>\n",
       "      <th>7</th>\n",
       "      <td>60</td>\n",
       "      <td>0.001</td>\n",
       "      <td>0.556429</td>\n",
       "    </tr>\n",
       "    <tr>\n",
       "      <th>8</th>\n",
       "      <td>110</td>\n",
       "      <td>0.1</td>\n",
       "      <td>0.999286</td>\n",
       "    </tr>\n",
       "    <tr>\n",
       "      <th>9</th>\n",
       "      <td>90</td>\n",
       "      <td>0.75</td>\n",
       "      <td>0.998571</td>\n",
       "    </tr>\n",
       "    <tr>\n",
       "      <th>10</th>\n",
       "      <td>20</td>\n",
       "      <td>0.75</td>\n",
       "      <td>0.998571</td>\n",
       "    </tr>\n",
       "    <tr>\n",
       "      <th>11</th>\n",
       "      <td>40</td>\n",
       "      <td>0.25</td>\n",
       "      <td>0.999286</td>\n",
       "    </tr>\n",
       "    <tr>\n",
       "      <th>12</th>\n",
       "      <td>25</td>\n",
       "      <td>0.075</td>\n",
       "      <td>0.988571</td>\n",
       "    </tr>\n",
       "    <tr>\n",
       "      <th>13</th>\n",
       "      <td>130</td>\n",
       "      <td>0.05</td>\n",
       "      <td>0.999286</td>\n",
       "    </tr>\n",
       "    <tr>\n",
       "      <th>14</th>\n",
       "      <td>90</td>\n",
       "      <td>0.1</td>\n",
       "      <td>0.999286</td>\n",
       "    </tr>\n",
       "    <tr>\n",
       "      <th>15</th>\n",
       "      <td>200</td>\n",
       "      <td>0.025</td>\n",
       "      <td>0.999286</td>\n",
       "    </tr>\n",
       "    <tr>\n",
       "      <th>16</th>\n",
       "      <td>20</td>\n",
       "      <td>0.075</td>\n",
       "      <td>0.985000</td>\n",
       "    </tr>\n",
       "    <tr>\n",
       "      <th>17</th>\n",
       "      <td>15</td>\n",
       "      <td>0.025</td>\n",
       "      <td>0.954286</td>\n",
       "    </tr>\n",
       "    <tr>\n",
       "      <th>18</th>\n",
       "      <td>40</td>\n",
       "      <td>0.075</td>\n",
       "      <td>0.994286</td>\n",
       "    </tr>\n",
       "    <tr>\n",
       "      <th>19</th>\n",
       "      <td>80</td>\n",
       "      <td>0.5</td>\n",
       "      <td>0.999286</td>\n",
       "    </tr>\n",
       "    <tr>\n",
       "      <th>20</th>\n",
       "      <td>1000</td>\n",
       "      <td>0.075</td>\n",
       "      <td>1.000000</td>\n",
       "    </tr>\n",
       "    <tr>\n",
       "      <th>21</th>\n",
       "      <td>20</td>\n",
       "      <td>0.05</td>\n",
       "      <td>0.972857</td>\n",
       "    </tr>\n",
       "    <tr>\n",
       "      <th>22</th>\n",
       "      <td>5</td>\n",
       "      <td>0.1</td>\n",
       "      <td>0.956429</td>\n",
       "    </tr>\n",
       "    <tr>\n",
       "      <th>23</th>\n",
       "      <td>200</td>\n",
       "      <td>0.75</td>\n",
       "      <td>0.998571</td>\n",
       "    </tr>\n",
       "    <tr>\n",
       "      <th>24</th>\n",
       "      <td>50</td>\n",
       "      <td>0.025</td>\n",
       "      <td>0.981429</td>\n",
       "    </tr>\n",
       "    <tr>\n",
       "      <th>25</th>\n",
       "      <td>70</td>\n",
       "      <td>0.1</td>\n",
       "      <td>0.999286</td>\n",
       "    </tr>\n",
       "    <tr>\n",
       "      <th>26</th>\n",
       "      <td>50</td>\n",
       "      <td>0.5</td>\n",
       "      <td>0.999286</td>\n",
       "    </tr>\n",
       "    <tr>\n",
       "      <th>27</th>\n",
       "      <td>70</td>\n",
       "      <td>0.001</td>\n",
       "      <td>0.556429</td>\n",
       "    </tr>\n",
       "    <tr>\n",
       "      <th>28</th>\n",
       "      <td>25</td>\n",
       "      <td>0.025</td>\n",
       "      <td>0.965714</td>\n",
       "    </tr>\n",
       "    <tr>\n",
       "      <th>29</th>\n",
       "      <td>70</td>\n",
       "      <td>0.25</td>\n",
       "      <td>0.999286</td>\n",
       "    </tr>\n",
       "  </tbody>\n",
       "</table>\n",
       "</div>"
      ],
      "text/plain": [
       "   param_n_estimators param_learning_rate  mean_test_score\n",
       "0                 300               0.075         1.000000\n",
       "1                 400               0.025         1.000000\n",
       "2                 140                 0.5         0.999286\n",
       "3                  80               0.075         0.999286\n",
       "4                 110                0.75         0.998571\n",
       "5                  80                0.05         0.995714\n",
       "6                  10                0.25         0.993571\n",
       "7                  60               0.001         0.556429\n",
       "8                 110                 0.1         0.999286\n",
       "9                  90                0.75         0.998571\n",
       "10                 20                0.75         0.998571\n",
       "11                 40                0.25         0.999286\n",
       "12                 25               0.075         0.988571\n",
       "13                130                0.05         0.999286\n",
       "14                 90                 0.1         0.999286\n",
       "15                200               0.025         0.999286\n",
       "16                 20               0.075         0.985000\n",
       "17                 15               0.025         0.954286\n",
       "18                 40               0.075         0.994286\n",
       "19                 80                 0.5         0.999286\n",
       "20               1000               0.075         1.000000\n",
       "21                 20                0.05         0.972857\n",
       "22                  5                 0.1         0.956429\n",
       "23                200                0.75         0.998571\n",
       "24                 50               0.025         0.981429\n",
       "25                 70                 0.1         0.999286\n",
       "26                 50                 0.5         0.999286\n",
       "27                 70               0.001         0.556429\n",
       "28                 25               0.025         0.965714\n",
       "29                 70                0.25         0.999286"
      ]
     },
     "execution_count": 52,
     "metadata": {},
     "output_type": "execute_result"
    }
   ],
   "source": [
    "rs_6 = RandomizedSearchCV(LGBMClassifier(application = 'binary'), {\n",
    "        'n_estimators': [1,5,10,15, 20, 25, 30,40,50,60,70,80,90,100,110,120,130,140,150,200,300,400,500,1000],\n",
    "        'learning_rate' : [0.05, 0.075, 0.025, 0.001, 0.1, 0.25, 0.5, 0.75]\n",
    "    }, \n",
    "    cv=5, \n",
    "    n_iter= 30,\n",
    "    n_jobs = -1,   #use all processors in parallel\n",
    "    random_state = SEED,\n",
    "    verbose = 100  # For displaying information\n",
    ")\n",
    "\n",
    "rs_6.fit(final_train, y_train)\n",
    "\n",
    "pd.DataFrame(rs_6.cv_results_)[['param_n_estimators','param_learning_rate','mean_test_score']]\n"
   ]
  },
  {
   "cell_type": "code",
   "execution_count": 53,
   "id": "ef7abd2f",
   "metadata": {},
   "outputs": [
    {
     "name": "stdout",
     "output_type": "stream",
     "text": [
      "Best Score :  1.0\n",
      "Best Parameters :  {'n_estimators': 300, 'learning_rate': 0.075}\n"
     ]
    }
   ],
   "source": [
    "print('Best Score : ' , rs_6.best_score_)\n",
    "print('Best Parameters : ' ,rs_6.best_params_)"
   ]
  },
  {
   "cell_type": "code",
   "execution_count": 54,
   "id": "ed283973",
   "metadata": {},
   "outputs": [],
   "source": [
    "model_lgbm = LGBMClassifier(n_estimators=rs_6.best_params_.get('n_estimators'),\n",
    "                      random_state=SEED, application = 'binary',learning_rate = rs_6.best_params_.get('learning_rate'))"
   ]
  },
  {
   "cell_type": "code",
   "execution_count": 55,
   "id": "82e910bd",
   "metadata": {
    "scrolled": true
   },
   "outputs": [
    {
     "data": {
      "text/plain": [
       "0.16189908981323242"
      ]
     },
     "execution_count": 55,
     "metadata": {},
     "output_type": "execute_result"
    }
   ],
   "source": [
    "start_time_lgbm = time.time()\n",
    "model_lgbm.fit(final_train, y_train)\n",
    "elapsed_time_lgbm = time.time() - start_time_lgbm\n",
    "elapsed_time_lgbm"
   ]
  },
  {
   "cell_type": "code",
   "execution_count": 56,
   "id": "19356272",
   "metadata": {},
   "outputs": [
    {
     "data": {
      "text/plain": [
       "0.9983361064891847"
      ]
     },
     "execution_count": 56,
     "metadata": {},
     "output_type": "execute_result"
    }
   ],
   "source": [
    "model_lgbm.score(final_test, y_test)"
   ]
  },
  {
   "cell_type": "code",
   "execution_count": 57,
   "id": "83aeb5ac",
   "metadata": {},
   "outputs": [
    {
     "name": "stdout",
     "output_type": "stream",
     "text": [
      "\n",
      "\n",
      "Classification Report : \n",
      "\n",
      "              precision    recall  f1-score   support\n",
      "\n",
      "           0       1.00      1.00      1.00       335\n",
      "           1       1.00      1.00      1.00       266\n",
      "\n",
      "    accuracy                           1.00       601\n",
      "   macro avg       1.00      1.00      1.00       601\n",
      "weighted avg       1.00      1.00      1.00       601\n",
      "\n"
     ]
    },
    {
     "data": {
      "image/png": "[encoded data removed]",
      "text/plain": [
       "<Figure size 720x504 with 2 Axes>"
      ]
     },
     "metadata": {
      "needs_background": "light"
     },
     "output_type": "display_data"
    },
    {
     "data": {
      "image/png": "[encoded data removed]",
      "text/plain": [
       "<Figure size 432x288 with 1 Axes>"
      ]
     },
     "metadata": {
      "needs_background": "light"
     },
     "output_type": "display_data"
    }
   ],
   "source": [
    "fpr_lgb , tpr_lgb, auc_lgb , f1_score_lgbm = plot_results(model_lgbm, final_test, y_test)"
   ]
  },
  {
   "cell_type": "code",
   "execution_count": 58,
   "id": "f927116d",
   "metadata": {},
   "outputs": [
    {
     "data": {
      "image/png": "[encoded data removed]",
      "text/plain": [
       "<Figure size 432x288 with 1 Axes>"
      ]
     },
     "metadata": {
      "needs_background": "light"
     },
     "output_type": "display_data"
    }
   ],
   "source": [
    "plt.figure()\n",
    "\n",
    "plt.plot(fpr_svm, tpr_svm,  label='SVM (auc = %0.4f)' % auc_svm)\n",
    "plt.plot(fpr_rf, tpr_rf,  label='RF (auc = %0.4f)' % auc_rf)\n",
    "plt.plot(fpr_gb, tpr_gb,  label='Gradient Boosting (auc = %0.4f)' % auc_gb)\n",
    "plt.plot(fpr_knn, tpr_knn, label='kNN (auc = %0.4f)' % auc_knn)\n",
    "plt.plot(fpr_xgb, tpr_xgb,  label='xgBm (auc = %0.4f)' % auc_xgb)\n",
    "plt.plot(fpr_lgb, tpr_lgb, label='lgBm (auc = %0.4f)' % auc_lgb)\n",
    "\n",
    "plt.title('ROC curve')\n",
    "plt.xlabel('False Positive Rate')\n",
    "plt.ylabel('True Positive Rate')\n",
    "plt.legend()\n",
    "plt.show()"
   ]
  },
  {
   "cell_type": "code",
   "execution_count": 59,
   "id": "745fc917",
   "metadata": {},
   "outputs": [],
   "source": [
    "training_times = {'SVM' : elapsed_time_svm,\n",
    "                 'kNN': elapsed_time_knn,\n",
    "                 'RF' : elapsed_time_rf,\n",
    "                 'gbm': elapsed_time_gbc,\n",
    "                 'xgbm': elapsed_time_xgbc,\n",
    "                 'lgbm' : elapsed_time_lgbm}\n",
    "\n",
    "models = list(training_times.keys())\n",
    "t_times = list(training_times.values())"
   ]
  },
  {
   "cell_type": "code",
   "execution_count": 60,
   "id": "c5b4d0e8",
   "metadata": {},
   "outputs": [],
   "source": [
    "accuracies = {'SVM' : model_svm.score(final_test, y_test),\n",
    "                 'kNN': model_knn.score(final_test, y_test),\n",
    "                 'RF' : model_rf.score(final_test, y_test),\n",
    "                 'gbm': model_gbc.score(final_test, y_test),\n",
    "                 'xgbm': model_xgbc.score(final_test, y_test),\n",
    "                 'lgbm' : model_lgbm.score(final_test, y_test)}\n",
    "\n",
    "models = list(accuracies.keys())\n",
    "acc = list(accuracies.values())"
   ]
  },
  {
   "cell_type": "code",
   "execution_count": 61,
   "id": "5bb7a0cf",
   "metadata": {},
   "outputs": [],
   "source": [
    "f1_scores = {'SVM' : f1_score_svm,\n",
    "                 'kNN': f1_score_knn,\n",
    "                 'RF' : f1_score_rf,\n",
    "                 'gbm': f1_score_gbc,\n",
    "                 'xgbm': f1_score_xgbc,\n",
    "                 'lgbm' : f1_score_lgbm}\n",
    "\n",
    "models = list(f1_scores.keys())\n",
    "scores = list(f1_scores.values())"
   ]
  },
  {
   "cell_type": "code",
   "execution_count": 62,
   "id": "71ee5081",
   "metadata": {},
   "outputs": [],
   "source": [
    "# # saving F1 scores, accuracy and training time dictionaries in CSV files\n",
    "\n",
    "# df_training_time = pd.DataFrame.from_dict([training_times]) \n",
    "# df_training_time.to_csv (r'Training_time_seed_{}.csv'.format(SEED), header=True, index=[SEED])\n",
    "\n",
    "# df_accuracy = pd.DataFrame.from_dict([accuracies]) \n",
    "# df_accuracy.to_csv (r'Accuracy_seed_{}.csv'.format(SEED),  header=True, index=[SEED])\n",
    "\n",
    "# df_f1_score = pd.DataFrame.from_dict([f1_scores]) \n",
    "# df_f1_score.to_csv (r'f1_score_seed_{}.csv'.format(SEED),  header=True, index=[SEED])"
   ]
  },
  {
   "cell_type": "markdown",
   "id": "ad68208c",
   "metadata": {},
   "source": [
    "#### Plot for 20 seeds"
   ]
  },
  {
   "cell_type": "markdown",
   "id": "a45ad809",
   "metadata": {},
   "source": [
    "#### Service 1"
   ]
  },
  {
   "cell_type": "code",
   "execution_count": 63,
   "id": "b6498b8b",
   "metadata": {},
   "outputs": [],
   "source": [
    "df_accuracies_s1 = pd.read_csv('S1_FD_Accuracy.csv').mean(axis=0)\n",
    "df_F1_scores_s1 = pd.read_csv('S1_FD_F1.csv').mean(axis=0)\n",
    "df_training_times_s1 = pd.read_csv('S1_FD_TT.csv').mean(axis=0)"
   ]
  },
  {
   "cell_type": "markdown",
   "id": "33852a8f",
   "metadata": {},
   "source": [
    "#### Service 2\n"
   ]
  },
  {
   "cell_type": "code",
   "execution_count": 64,
   "id": "272cb189",
   "metadata": {},
   "outputs": [],
   "source": [
    "df_accuracies_s2 = pd.read_csv('S2_FD_Accuracy.csv').mean(axis=0)\n",
    "df_F1_scores_s2 = pd.read_csv('S2_FD_F1.csv').mean(axis=0)\n",
    "df_training_times_s2 = pd.read_csv('S2_FD_TT.csv').mean(axis=0)"
   ]
  },
  {
   "cell_type": "markdown",
   "id": "97ade79e",
   "metadata": {},
   "source": [
    "#### For Grouped Bar Plots"
   ]
  },
  {
   "cell_type": "code",
   "execution_count": 65,
   "id": "393e8ac6",
   "metadata": {},
   "outputs": [],
   "source": [
    "models_ml = df_F1_scores_s1.keys()   #extracting model names\n",
    "\n",
    "f1_Scores_service_1 = df_F1_scores_s1.values  \n",
    "f1_Scores_service_2 = df_F1_scores_s2.values\n",
    "\n",
    "training_times_service_1 = df_training_times_s1.values\n",
    "training_times_service_2 = df_training_times_s2.values"
   ]
  },
  {
   "cell_type": "code",
   "execution_count": 66,
   "id": "141442b5",
   "metadata": {},
   "outputs": [
    {
     "data": {
      "image/png": "[encoded data removed]",
      "text/plain": [
       "<Figure size 720x504 with 1 Axes>"
      ]
     },
     "metadata": {
      "needs_background": "light"
     },
     "output_type": "display_data"
    }
   ],
   "source": [
    "fig, ax = plt.subplots(figsize=(10,7))\n",
    "\n",
    "# Multi bar Chart\n",
    "x_axis = np.arange(len(models_ml))\n",
    "p1 = ax.bar(x_axis -0.2, f1_Scores_service_1, width=0.4, label = 'Subnetwork 1')\n",
    "p2 = plt.bar(x_axis +0.2, f1_Scores_service_2, width=0.4, label = 'Subnetwork 2')\n",
    "\n",
    "for c in ax.containers: ax.bar_label(c, fmt='%.4f')    #for limiting bar labels up to four decimal places\n",
    "    \n",
    "plt.xticks(x_axis, models_ml)\n",
    "\n",
    "# Add legend\n",
    "plt.legend(loc='upper center', bbox_to_anchor=(0.5, 1.06), ncol=3, fancybox=True, shadow=True)\n",
    "\n",
    "# Display\n",
    "plt.ylabel('Macro Average F1-Score')\n",
    "plt.xlabel('Machine Learning Model')\n",
    "plt.show()"
   ]
  },
  {
   "cell_type": "code",
   "execution_count": 67,
   "id": "bccbda45",
   "metadata": {},
   "outputs": [
    {
     "data": {
      "image/png": "[encoded data removed]",
      "text/plain": [
       "<Figure size 720x576 with 1 Axes>"
      ]
     },
     "metadata": {
      "needs_background": "light"
     },
     "output_type": "display_data"
    }
   ],
   "source": [
    "fig, ax = plt.subplots(figsize=(10,8))\n",
    "\n",
    "# Multi bar Chart\n",
    "x_axis = np.arange(len(models_ml))\n",
    "p1 = ax.bar(x_axis -0.2, training_times_service_1, width=0.4, label = 'Subnetwork 1')\n",
    "p2 = plt.bar(x_axis +0.2, training_times_service_2, width=0.4, label = 'Subnetwork 2')\n",
    "\n",
    "for c in ax.containers: ax.bar_label(c, fmt='%.3f')\n",
    "\n",
    "plt.xticks(x_axis, models_ml)\n",
    "\n",
    "# Add legend\n",
    "plt.legend()\n",
    "\n",
    "# Display\n",
    "plt.ylabel('Training Time (seconds)')\n",
    "plt.xlabel('Machine Learning Model')\n",
    "plt.show()"
   ]
  }
 ],
 "metadata": {
  "kernelspec": {
   "display_name": "Python 3 (ipykernel)",
   "language": "python",
   "name": "python3"
  },
  "language_info": {
   "codemirror_mode": {
    "name": "ipython",
    "version": 3
   },
   "file_extension": ".py",
   "mimetype": "text/x-python",
   "name": "python",
   "nbconvert_exporter": "python",
   "pygments_lexer": "ipython3",
   "version": "3.9.7"
  }
 },
 "nbformat": 4,
 "nbformat_minor": 5
}
