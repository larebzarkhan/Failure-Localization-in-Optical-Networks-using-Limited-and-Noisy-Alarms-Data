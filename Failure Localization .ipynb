{
 "cells": [
  {
   "cell_type": "markdown",
   "id": "2770a818",
   "metadata": {},
   "source": [
    "## <center> 2. Failure Localization (Multi-class Classification)\n",
    "    "
   ]
  },
  {
   "cell_type": "markdown",
   "id": "95da73da",
   "metadata": {},
   "source": [
    "#### Importing required libraries"
   ]
  },
  {
   "cell_type": "code",
   "execution_count": 1,
   "id": "7909f862",
   "metadata": {},
   "outputs": [],
   "source": [
    "import pandas as pd\n",
    "import numpy as np\n",
    "import matplotlib.pyplot as plt\n",
    "\n",
    "from sklearn.model_selection import train_test_split\n",
    "from feature_engine.encoding import RareLabelEncoder\n",
    "from sklearn import preprocessing\n",
    "from category_encoders import one_hot\n",
    "from sklearn.preprocessing import RobustScaler, MinMaxScaler,label_binarize\n",
    "from sklearn.metrics import roc_curve, auc\n",
    "from sklearn.multiclass import OneVsRestClassifier\n",
    "\n",
    "# plt.style.reload_library()\n",
    "# plt.style.use(['science','notebook'])"
   ]
  },
  {
   "cell_type": "markdown",
   "id": "8f877104",
   "metadata": {},
   "source": [
    "#### Controlling randomness of simulation / For reproducibility of results!"
   ]
  },
  {
   "cell_type": "code",
   "execution_count": 2,
   "id": "ba493908",
   "metadata": {},
   "outputs": [],
   "source": [
    "import os\n",
    "import random\n",
    "import time \n",
    "\n",
    "SEED = 1\n",
    "\n",
    "os.environ['PYTHONHASHSEED'] =str(SEED)\n",
    "os.environ['TF_CUDNN_DETERMINISTIC'] = '1'\n",
    "\n",
    "random.seed(SEED)\n",
    "np.random.seed(SEED)"
   ]
  },
  {
   "cell_type": "code",
   "execution_count": 3,
   "id": "792c02da",
   "metadata": {},
   "outputs": [],
   "source": [
    "service = 1  #select service 1 or 2\n",
    "cols_to_drop = ['Failure_Alarm', 'Magnitude', 'Service', 'Attenuation', 'Position']    #redundant features\n",
    "cols_to_scale = ['AFFECTEDOBJECTNAME','NENAME', 'ALARMNAME', 'PROBABLECAUSE', 'ADDITIONALTEXT']   #categorical features\n",
    "\n",
    "def get_data():\n",
    "    \n",
    "    df = pd.read_excel('combined_data_for_both_services.xlsx')    #Dataset is now loaded in a Pandas Dataframe\n",
    "    \n",
    "    df = df[df.Failure_Alarm != 0].copy()   #extracting only failure data\n",
    "    \n",
    "#     print(\"Number of Samples of each service \")\n",
    "#     print(df.Service.value_counts())\n",
    "    \n",
    "    df_service_x = df[df.Service == service].copy()   #considered service\n",
    "    \n",
    "    print(\"Shape of dataset before removing duplicates : \", df_service_x.shape)\n",
    "    df_service_x.drop_duplicates(inplace = True)\n",
    "    print(\"Shape of dataset after removing duplicates : \", df_service_x.shape)\n",
    "    \n",
    "    return df_service_x.copy()"
   ]
  },
  {
   "cell_type": "markdown",
   "id": "d273d6f2",
   "metadata": {},
   "source": [
    "#### RareLabelEncoder\n",
    "\n",
    "The RareLabelEncoder() groups labels that show a small number of observations in the dataset into a new category called 'Rare'. This helps to avoid overfitting.\n",
    "\n",
    "The argument ' tol ' indicates the percentage of observations that the label needs to have in order not to be re-grouped into the \"Rare\" label.\n",
    "The argument n_categories indicates the minimum number of distinct categories that a variable needs to have for any of the labels to be re-grouped into 'Rare'.\n",
    "\n",
    "\n",
    "#### Note:\n",
    "If the number of labels is smaller than n_categories, then the encoder will not group the labels for that variable."
   ]
  },
  {
   "cell_type": "code",
   "execution_count": 4,
   "id": "0c105089",
   "metadata": {},
   "outputs": [],
   "source": [
    "def get_stats_of_dataset(data):\n",
    "    print(\"Number of labels in each feature : \\n\\n\")\n",
    "    for col in data.columns:\n",
    "        print(col, ': ', len(data[col].unique()), ' labels')\n",
    "    \n",
    "    for col in data.columns[0:3]:\n",
    "        print('\\nFeature : ', col)\n",
    "        print(\"\\n\")\n",
    "        print(df_service[col].value_counts().sort_values(ascending=False).head(20))"
   ]
  },
  {
   "cell_type": "code",
   "execution_count": 5,
   "id": "bce23b3f",
   "metadata": {},
   "outputs": [],
   "source": [
    "rare_encoder = RareLabelEncoder(tol=0.005,\n",
    "                                n_categories = 3,\n",
    "                                variables= cols_to_scale)\n",
    "\n",
    "def get_rare_Encoded_Data(df_service_x):\n",
    "    \n",
    "    X = df_service_x.drop(cols_to_drop, axis= 'columns')\n",
    "    y = df_service_x.Position\n",
    "    \n",
    "    y = y - 1   #updating labels so that index can start from 0\n",
    "    \n",
    "    X_train, X_test, y_train, y_test = train_test_split(X, y, test_size=0.25, random_state= SEED, shuffle = True)\n",
    "\n",
    "    \n",
    "    print(\"\\nSize of training data: \", X_train.shape)\n",
    "    print(\"\\nSize of test data: \", X_test.shape)\n",
    "\n",
    "    #more realistic scenario; seperate transformation on test and train dataset\n",
    "    rare_encoder.fit(X_train) \n",
    "    \n",
    "    train_t = rare_encoder.transform(X_train)   #transformed training set\n",
    "    test_t = rare_encoder.transform(X_test)\n",
    "    \n",
    "    print(\"Size of Rare encoded training data: \", train_t.shape)\n",
    "    print(\"Size of Rare encoded test data: \", test_t.shape)\n",
    "    return train_t, test_t, y_train, y_test\n"
   ]
  },
  {
   "cell_type": "code",
   "execution_count": 6,
   "id": "75557613",
   "metadata": {},
   "outputs": [
    {
     "name": "stdout",
     "output_type": "stream",
     "text": [
      "Shape of dataset before removing duplicates :  (887, 11)\n",
      "Shape of dataset after removing duplicates :  (887, 11)\n"
     ]
    }
   ],
   "source": [
    "df_service = get_data()"
   ]
  },
  {
   "cell_type": "code",
   "execution_count": 7,
   "id": "007268d3",
   "metadata": {
    "scrolled": false
   },
   "outputs": [],
   "source": [
    "# get_stats_of_dataset(df_service)"
   ]
  },
  {
   "cell_type": "code",
   "execution_count": 8,
   "id": "d37021f4",
   "metadata": {},
   "outputs": [
    {
     "name": "stdout",
     "output_type": "stream",
     "text": [
      "\n",
      "Size of training data:  (665, 6)\n",
      "\n",
      "Size of test data:  (222, 6)\n",
      "Size of Rare encoded training data:  (665, 6)\n",
      "Size of Rare encoded test data:  (222, 6)\n"
     ]
    }
   ],
   "source": [
    "train_t, test_t, y_train, y_test = get_rare_Encoded_Data(df_service)"
   ]
  },
  {
   "cell_type": "code",
   "execution_count": 9,
   "id": "09fc085f",
   "metadata": {},
   "outputs": [],
   "source": [
    "# get_stats_of_dataset(train_t)"
   ]
  },
  {
   "cell_type": "markdown",
   "id": "f8086d2f",
   "metadata": {},
   "source": [
    "Normalization across instances should be done after splitting the data between training and test set, using only the data from the training set.\n",
    "\n",
    "This is because the test set plays the role of fresh unseen data, so it's not supposed to be accessible at the training stage. Using any information coming from the test set before or during training is a potential bias in the evaluation of the performance.\n",
    "\n",
    "When normalizing the test set, one should apply the normalization parameters previously obtained from the training set as-is. Do not recalculate them on the test set, because they would be inconsistent with the model and this would produce wrong predictions.\n",
    "\n",
    "\n",
    "Source: https://datascience.stackexchange.com/questions/54908/data-normalization-before-or-after-train-test-split"
   ]
  },
  {
   "cell_type": "code",
   "execution_count": 10,
   "id": "bdea326c",
   "metadata": {},
   "outputs": [],
   "source": [
    "rbst_scaler = RobustScaler()   #For normalizing FDN as FDN has wide range of numbers (Robust scaler is robust to noise)\n",
    "\n",
    "# Initiliazing the Category Encoders OHE object\n",
    "ce_ohe = one_hot.OneHotEncoder(use_cat_names = True)\n",
    "\n",
    "#initializing only on training data\n",
    "ce_ohe_fitted = ce_ohe.fit(train_t[cols_to_scale])   \n",
    "rbst_scaler_fitted = rbst_scaler.fit(np.array(train_t['FDN']).reshape(-1, 1))\n",
    "\n",
    "def data_transformer (temp_df):\n",
    "    \n",
    "    ce_dummies = ce_ohe_fitted.transform(temp_df[cols_to_scale])\n",
    "    \n",
    "    temp_df['FDN'] = rbst_scaler_fitted.transform(np.array(temp_df['FDN']).reshape(-1, 1)) \n",
    "    \n",
    "    temp_df = temp_df.drop(cols_to_scale , axis = 'columns')\n",
    "    \n",
    "    resultant_df = pd.concat([ce_dummies, temp_df], axis=1, join='inner') \n",
    "    \n",
    "    return resultant_df.copy()   #returns normalized dataset"
   ]
  },
  {
   "cell_type": "code",
   "execution_count": 11,
   "id": "4bc6ab1d",
   "metadata": {},
   "outputs": [],
   "source": [
    "#seperate normalization of test and train data: realistic scenario\n",
    "\n",
    "X_train_encoded = data_transformer (train_t)\n",
    "X_test_encoded = data_transformer (test_t)"
   ]
  },
  {
   "cell_type": "code",
   "execution_count": 12,
   "id": "cb12c062",
   "metadata": {},
   "outputs": [
    {
     "data": {
      "text/plain": [
       "(665, 267)"
      ]
     },
     "execution_count": 12,
     "metadata": {},
     "output_type": "execute_result"
    }
   ],
   "source": [
    "X_train_encoded.shape"
   ]
  },
  {
   "cell_type": "code",
   "execution_count": 13,
   "id": "10a1fae6",
   "metadata": {},
   "outputs": [
    {
     "data": {
      "text/plain": [
       "(222, 267)"
      ]
     },
     "execution_count": 13,
     "metadata": {},
     "output_type": "execute_result"
    }
   ],
   "source": [
    "X_test_encoded.shape"
   ]
  },
  {
   "cell_type": "markdown",
   "id": "fa247845",
   "metadata": {},
   "source": [
    "Test and train datasets can have different dimensions, which is not desired for training and testing of ML model. The following statement balances the dimensions of both datasets by discarding max(test_data.size[1], train_data.size[1]) - min(test_data.size[1], train_data.size[1]) number of features."
   ]
  },
  {
   "cell_type": "code",
   "execution_count": 14,
   "id": "6cb2607b",
   "metadata": {},
   "outputs": [],
   "source": [
    "final_train, final_test = X_train_encoded.align(X_test_encoded, join='inner', axis=1)  # inner join"
   ]
  },
  {
   "cell_type": "markdown",
   "id": "eebfb56b",
   "metadata": {},
   "source": [
    "There can be unsupported characters in the feature names obtained from raw data. Some sklearn models do not process such features, hence removing such characters from feature names."
   ]
  },
  {
   "cell_type": "code",
   "execution_count": 15,
   "id": "e5575798",
   "metadata": {},
   "outputs": [],
   "source": [
    "import re\n",
    "final_train = final_train.rename(columns = lambda x:re.sub('[^A-Za-z0-9_]+', '', x))\n",
    "final_test = final_test.rename(columns = lambda x:re.sub('[^A-Za-z0-9_]+', '', x))"
   ]
  },
  {
   "cell_type": "code",
   "execution_count": 16,
   "id": "e58dd260",
   "metadata": {},
   "outputs": [
    {
     "data": {
      "text/plain": [
       "(665, 267)"
      ]
     },
     "execution_count": 16,
     "metadata": {},
     "output_type": "execute_result"
    }
   ],
   "source": [
    "final_train.shape"
   ]
  },
  {
   "cell_type": "code",
   "execution_count": 17,
   "id": "31ab3d12",
   "metadata": {},
   "outputs": [
    {
     "data": {
      "text/plain": [
       "(665, 96)"
      ]
     },
     "execution_count": 17,
     "metadata": {},
     "output_type": "execute_result"
    }
   ],
   "source": [
    "from sklearn.decomposition import PCA    \n",
    "pca = PCA(0.98)                #Figuring out dimensions that contain 98% of information of actual data\n",
    "pca_fitted = pca.fit(final_train)\n",
    "final_train_pca = pca_fitted.transform(final_train)\n",
    "final_train_pca.shape"
   ]
  },
  {
   "cell_type": "code",
   "execution_count": 18,
   "id": "125f525a",
   "metadata": {},
   "outputs": [
    {
     "data": {
      "text/plain": [
       "(222, 96)"
      ]
     },
     "execution_count": 18,
     "metadata": {},
     "output_type": "execute_result"
    }
   ],
   "source": [
    "final_test_pca = pca_fitted.transform(final_test)\n",
    "final_test_pca.shape"
   ]
  },
  {
   "cell_type": "code",
   "execution_count": 19,
   "id": "2a5436bb",
   "metadata": {},
   "outputs": [
    {
     "data": {
      "text/plain": [
       "((222, 96), (665, 96))"
      ]
     },
     "execution_count": 19,
     "metadata": {},
     "output_type": "execute_result"
    }
   ],
   "source": [
    "final_test , final_train = final_test_pca , final_train_pca \n",
    "final_test.shape , final_train.shape"
   ]
  },
  {
   "cell_type": "markdown",
   "id": "5d18c261",
   "metadata": {},
   "source": [
    "## Machine Learning models"
   ]
  },
  {
   "cell_type": "markdown",
   "id": "50437be8",
   "metadata": {},
   "source": [
    "#### Hyper-parameter Tuning\n",
    "\n",
    "Using RandomizedSearchCV to reduce number of iterations and with random combination of parameters. This is useful when we have too many parameters to try and our training time is longer. It helps to reduce the cost of computation."
   ]
  },
  {
   "cell_type": "code",
   "execution_count": 20,
   "id": "5102c9b9",
   "metadata": {},
   "outputs": [
    {
     "name": "stdout",
     "output_type": "stream",
     "text": [
      "Fitting 5 folds for each of 30 candidates, totalling 150 fits\n"
     ]
    },
    {
     "data": {
      "text/html": [
       "<div>\n",
       "<style scoped>\n",
       "    .dataframe tbody tr th:only-of-type {\n",
       "        vertical-align: middle;\n",
       "    }\n",
       "\n",
       "    .dataframe tbody tr th {\n",
       "        vertical-align: top;\n",
       "    }\n",
       "\n",
       "    .dataframe thead th {\n",
       "        text-align: right;\n",
       "    }\n",
       "</style>\n",
       "<table border=\"1\" class=\"dataframe\">\n",
       "  <thead>\n",
       "    <tr style=\"text-align: right;\">\n",
       "      <th></th>\n",
       "      <th>param_gamma</th>\n",
       "      <th>param_C</th>\n",
       "      <th>param_kernel</th>\n",
       "      <th>mean_test_score</th>\n",
       "    </tr>\n",
       "  </thead>\n",
       "  <tbody>\n",
       "    <tr>\n",
       "      <th>0</th>\n",
       "      <td>scale</td>\n",
       "      <td>25</td>\n",
       "      <td>rbf</td>\n",
       "      <td>0.911278</td>\n",
       "    </tr>\n",
       "    <tr>\n",
       "      <th>1</th>\n",
       "      <td>auto</td>\n",
       "      <td>1</td>\n",
       "      <td>poly</td>\n",
       "      <td>0.685714</td>\n",
       "    </tr>\n",
       "    <tr>\n",
       "      <th>2</th>\n",
       "      <td>scale</td>\n",
       "      <td>25</td>\n",
       "      <td>poly</td>\n",
       "      <td>0.905263</td>\n",
       "    </tr>\n",
       "    <tr>\n",
       "      <th>3</th>\n",
       "      <td>auto</td>\n",
       "      <td>10</td>\n",
       "      <td>sigmoid</td>\n",
       "      <td>0.830075</td>\n",
       "    </tr>\n",
       "    <tr>\n",
       "      <th>4</th>\n",
       "      <td>auto</td>\n",
       "      <td>20</td>\n",
       "      <td>rbf</td>\n",
       "      <td>0.840602</td>\n",
       "    </tr>\n",
       "    <tr>\n",
       "      <th>5</th>\n",
       "      <td>auto</td>\n",
       "      <td>20</td>\n",
       "      <td>linear</td>\n",
       "      <td>0.912782</td>\n",
       "    </tr>\n",
       "    <tr>\n",
       "      <th>6</th>\n",
       "      <td>scale</td>\n",
       "      <td>20</td>\n",
       "      <td>rbf</td>\n",
       "      <td>0.911278</td>\n",
       "    </tr>\n",
       "    <tr>\n",
       "      <th>7</th>\n",
       "      <td>scale</td>\n",
       "      <td>20</td>\n",
       "      <td>sigmoid</td>\n",
       "      <td>0.833083</td>\n",
       "    </tr>\n",
       "    <tr>\n",
       "      <th>8</th>\n",
       "      <td>auto</td>\n",
       "      <td>30</td>\n",
       "      <td>linear</td>\n",
       "      <td>0.915789</td>\n",
       "    </tr>\n",
       "    <tr>\n",
       "      <th>9</th>\n",
       "      <td>auto</td>\n",
       "      <td>25</td>\n",
       "      <td>poly</td>\n",
       "      <td>0.685714</td>\n",
       "    </tr>\n",
       "    <tr>\n",
       "      <th>10</th>\n",
       "      <td>auto</td>\n",
       "      <td>30</td>\n",
       "      <td>rbf</td>\n",
       "      <td>0.854135</td>\n",
       "    </tr>\n",
       "    <tr>\n",
       "      <th>11</th>\n",
       "      <td>scale</td>\n",
       "      <td>10</td>\n",
       "      <td>linear</td>\n",
       "      <td>0.909774</td>\n",
       "    </tr>\n",
       "    <tr>\n",
       "      <th>12</th>\n",
       "      <td>scale</td>\n",
       "      <td>20</td>\n",
       "      <td>poly</td>\n",
       "      <td>0.905263</td>\n",
       "    </tr>\n",
       "    <tr>\n",
       "      <th>13</th>\n",
       "      <td>auto</td>\n",
       "      <td>25</td>\n",
       "      <td>linear</td>\n",
       "      <td>0.915789</td>\n",
       "    </tr>\n",
       "    <tr>\n",
       "      <th>14</th>\n",
       "      <td>auto</td>\n",
       "      <td>5</td>\n",
       "      <td>poly</td>\n",
       "      <td>0.685714</td>\n",
       "    </tr>\n",
       "    <tr>\n",
       "      <th>15</th>\n",
       "      <td>auto</td>\n",
       "      <td>1</td>\n",
       "      <td>sigmoid</td>\n",
       "      <td>0.685714</td>\n",
       "    </tr>\n",
       "    <tr>\n",
       "      <th>16</th>\n",
       "      <td>auto</td>\n",
       "      <td>15</td>\n",
       "      <td>rbf</td>\n",
       "      <td>0.843609</td>\n",
       "    </tr>\n",
       "    <tr>\n",
       "      <th>17</th>\n",
       "      <td>scale</td>\n",
       "      <td>30</td>\n",
       "      <td>rbf</td>\n",
       "      <td>0.912782</td>\n",
       "    </tr>\n",
       "    <tr>\n",
       "      <th>18</th>\n",
       "      <td>auto</td>\n",
       "      <td>20</td>\n",
       "      <td>sigmoid</td>\n",
       "      <td>0.846617</td>\n",
       "    </tr>\n",
       "    <tr>\n",
       "      <th>19</th>\n",
       "      <td>auto</td>\n",
       "      <td>15</td>\n",
       "      <td>poly</td>\n",
       "      <td>0.685714</td>\n",
       "    </tr>\n",
       "    <tr>\n",
       "      <th>20</th>\n",
       "      <td>scale</td>\n",
       "      <td>25</td>\n",
       "      <td>linear</td>\n",
       "      <td>0.915789</td>\n",
       "    </tr>\n",
       "    <tr>\n",
       "      <th>21</th>\n",
       "      <td>scale</td>\n",
       "      <td>30</td>\n",
       "      <td>poly</td>\n",
       "      <td>0.911278</td>\n",
       "    </tr>\n",
       "    <tr>\n",
       "      <th>22</th>\n",
       "      <td>auto</td>\n",
       "      <td>15</td>\n",
       "      <td>sigmoid</td>\n",
       "      <td>0.845113</td>\n",
       "    </tr>\n",
       "    <tr>\n",
       "      <th>23</th>\n",
       "      <td>auto</td>\n",
       "      <td>20</td>\n",
       "      <td>poly</td>\n",
       "      <td>0.685714</td>\n",
       "    </tr>\n",
       "    <tr>\n",
       "      <th>24</th>\n",
       "      <td>scale</td>\n",
       "      <td>5</td>\n",
       "      <td>linear</td>\n",
       "      <td>0.875188</td>\n",
       "    </tr>\n",
       "    <tr>\n",
       "      <th>25</th>\n",
       "      <td>scale</td>\n",
       "      <td>10</td>\n",
       "      <td>poly</td>\n",
       "      <td>0.903759</td>\n",
       "    </tr>\n",
       "    <tr>\n",
       "      <th>26</th>\n",
       "      <td>scale</td>\n",
       "      <td>25</td>\n",
       "      <td>sigmoid</td>\n",
       "      <td>0.809023</td>\n",
       "    </tr>\n",
       "    <tr>\n",
       "      <th>27</th>\n",
       "      <td>scale</td>\n",
       "      <td>15</td>\n",
       "      <td>poly</td>\n",
       "      <td>0.903759</td>\n",
       "    </tr>\n",
       "    <tr>\n",
       "      <th>28</th>\n",
       "      <td>auto</td>\n",
       "      <td>10</td>\n",
       "      <td>linear</td>\n",
       "      <td>0.909774</td>\n",
       "    </tr>\n",
       "    <tr>\n",
       "      <th>29</th>\n",
       "      <td>auto</td>\n",
       "      <td>30</td>\n",
       "      <td>sigmoid</td>\n",
       "      <td>0.840602</td>\n",
       "    </tr>\n",
       "  </tbody>\n",
       "</table>\n",
       "</div>"
      ],
      "text/plain": [
       "   param_gamma param_C param_kernel  mean_test_score\n",
       "0        scale      25          rbf         0.911278\n",
       "1         auto       1         poly         0.685714\n",
       "2        scale      25         poly         0.905263\n",
       "3         auto      10      sigmoid         0.830075\n",
       "4         auto      20          rbf         0.840602\n",
       "5         auto      20       linear         0.912782\n",
       "6        scale      20          rbf         0.911278\n",
       "7        scale      20      sigmoid         0.833083\n",
       "8         auto      30       linear         0.915789\n",
       "9         auto      25         poly         0.685714\n",
       "10        auto      30          rbf         0.854135\n",
       "11       scale      10       linear         0.909774\n",
       "12       scale      20         poly         0.905263\n",
       "13        auto      25       linear         0.915789\n",
       "14        auto       5         poly         0.685714\n",
       "15        auto       1      sigmoid         0.685714\n",
       "16        auto      15          rbf         0.843609\n",
       "17       scale      30          rbf         0.912782\n",
       "18        auto      20      sigmoid         0.846617\n",
       "19        auto      15         poly         0.685714\n",
       "20       scale      25       linear         0.915789\n",
       "21       scale      30         poly         0.911278\n",
       "22        auto      15      sigmoid         0.845113\n",
       "23        auto      20         poly         0.685714\n",
       "24       scale       5       linear         0.875188\n",
       "25       scale      10         poly         0.903759\n",
       "26       scale      25      sigmoid         0.809023\n",
       "27       scale      15         poly         0.903759\n",
       "28        auto      10       linear         0.909774\n",
       "29        auto      30      sigmoid         0.840602"
      ]
     },
     "execution_count": 20,
     "metadata": {},
     "output_type": "execute_result"
    }
   ],
   "source": [
    "from sklearn.model_selection import RandomizedSearchCV\n",
    "from sklearn import svm\n",
    "\n",
    "rs = RandomizedSearchCV(svm.SVC(), {\n",
    "        'gamma' : ['auto', 'scale'],\n",
    "        'C': [1,5,10,15, 20, 25, 30],\n",
    "        'kernel': ['rbf','linear', 'poly', 'sigmoid']\n",
    "    }, \n",
    "    cv=5, \n",
    "    n_iter= 30,\n",
    "    n_jobs = -1,   #use all processors in parallel\n",
    "    random_state = SEED,\n",
    "    verbose = 100\n",
    ")\n",
    "\n",
    "rs.fit(final_train, y_train)\n",
    "\n",
    "pd.DataFrame(rs.cv_results_)[['param_gamma','param_C','param_kernel','mean_test_score']]"
   ]
  },
  {
   "cell_type": "code",
   "execution_count": 21,
   "id": "53870631",
   "metadata": {},
   "outputs": [
    {
     "name": "stdout",
     "output_type": "stream",
     "text": [
      "Best Score :  0.9157894736842105\n",
      "Best Parameters :  {'kernel': 'linear', 'gamma': 'auto', 'C': 30}\n"
     ]
    }
   ],
   "source": [
    "print('Best Score : ' , rs.best_score_)\n",
    "print('Best Parameters : ' ,rs.best_params_)"
   ]
  },
  {
   "cell_type": "code",
   "execution_count": 22,
   "id": "24c25627",
   "metadata": {},
   "outputs": [
    {
     "data": {
      "text/plain": [
       "0.01096796989440918"
      ]
     },
     "execution_count": 22,
     "metadata": {},
     "output_type": "execute_result"
    }
   ],
   "source": [
    "model_svm = svm.SVC(kernel= rs.best_params_.get('kernel'),C= rs.best_params_.get('C'),gamma =rs.best_params_.get('gamma'), random_state = SEED)\n",
    "\n",
    "start_time_svm = time.time()\n",
    "model_svm.fit(final_train, y_train)\n",
    "\n",
    "elapsed_time_svm = time.time() - start_time_svm\n",
    "elapsed_time_svm"
   ]
  },
  {
   "cell_type": "code",
   "execution_count": 23,
   "id": "6294783a",
   "metadata": {},
   "outputs": [
    {
     "data": {
      "text/plain": [
       "0.9234234234234234"
      ]
     },
     "execution_count": 23,
     "metadata": {},
     "output_type": "execute_result"
    }
   ],
   "source": [
    "model_svm.score(final_test, y_test)"
   ]
  },
  {
   "cell_type": "code",
   "execution_count": 24,
   "id": "33b85c03",
   "metadata": {},
   "outputs": [],
   "source": [
    "from sklearn.metrics import confusion_matrix,classification_report\n",
    "import matplotlib.pyplot as plt\n",
    "import seaborn as sn\n",
    "\n",
    "def plot_results(model, X_test, y_test):\n",
    "    y_predicted = model.predict(X_test)\n",
    "    cm = confusion_matrix(y_test, y_predicted)\n",
    "    plt.figure(figsize=(10,7))\n",
    "    sn.heatmap(cm, annot=True, fmt='d')\n",
    "    plt.xlabel('Predicted')\n",
    "    plt.ylabel('Truth')\n",
    "    \n",
    "    print('\\n\\nClassification Report : \\n')\n",
    "    print(classification_report(y_test, y_predicted))\n",
    "    \n",
    "    report = classification_report(y_test, y_predicted, output_dict=True)\n",
    "\n",
    "    #ROC curve \n",
    "#     fpr, tpr, _ = roc_curve(y_test, y_predicted)\n",
    "#     auc_t = auc(fpr, tpr)\n",
    "    \n",
    "#     plt.figure()\n",
    "#     plt.plot(fpr, tpr, marker='.', label='(AUC = %0.3f)' % auc_t)\n",
    "#     plt.title('ROC curve')\n",
    "#     plt.xlabel('False Positive Rate')\n",
    "#     plt.ylabel('True Positive Rate')\n",
    "#     plt.legend()\n",
    "#     plt.show()\n",
    "    \n",
    "    return report['macro avg']['f1-score']"
   ]
  },
  {
   "cell_type": "code",
   "execution_count": 25,
   "id": "981588b9",
   "metadata": {},
   "outputs": [
    {
     "name": "stdout",
     "output_type": "stream",
     "text": [
      "\n",
      "\n",
      "Classification Report : \n",
      "\n",
      "              precision    recall  f1-score   support\n",
      "\n",
      "           0       0.91      0.96      0.93        45\n",
      "           1       0.50      0.55      0.52        11\n",
      "           2       0.95      0.94      0.94       155\n",
      "           3       1.00      1.00      1.00        11\n",
      "\n",
      "    accuracy                           0.92       222\n",
      "   macro avg       0.84      0.86      0.85       222\n",
      "weighted avg       0.93      0.92      0.92       222\n",
      "\n"
     ]
    },
    {
     "data": {
      "image/png": "[encoded data removed]",
      "text/plain": [
       "<Figure size 720x504 with 2 Axes>"
      ]
     },
     "metadata": {
      "needs_background": "light"
     },
     "output_type": "display_data"
    }
   ],
   "source": [
    "f1_score_svm = plot_results(model_svm, final_test, y_test)"
   ]
  },
  {
   "cell_type": "code",
   "execution_count": 26,
   "id": "8c09676a",
   "metadata": {},
   "outputs": [
    {
     "name": "stdout",
     "output_type": "stream",
     "text": [
      "Fitting 5 folds for each of 22 candidates, totalling 110 fits\n"
     ]
    },
    {
     "data": {
      "text/html": [
       "<div>\n",
       "<style scoped>\n",
       "    .dataframe tbody tr th:only-of-type {\n",
       "        vertical-align: middle;\n",
       "    }\n",
       "\n",
       "    .dataframe tbody tr th {\n",
       "        vertical-align: top;\n",
       "    }\n",
       "\n",
       "    .dataframe thead th {\n",
       "        text-align: right;\n",
       "    }\n",
       "</style>\n",
       "<table border=\"1\" class=\"dataframe\">\n",
       "  <thead>\n",
       "    <tr style=\"text-align: right;\">\n",
       "      <th></th>\n",
       "      <th>param_n_estimators</th>\n",
       "      <th>mean_test_score</th>\n",
       "    </tr>\n",
       "  </thead>\n",
       "  <tbody>\n",
       "    <tr>\n",
       "      <th>0</th>\n",
       "      <td>1</td>\n",
       "      <td>0.911278</td>\n",
       "    </tr>\n",
       "    <tr>\n",
       "      <th>1</th>\n",
       "      <td>5</td>\n",
       "      <td>0.953383</td>\n",
       "    </tr>\n",
       "    <tr>\n",
       "      <th>2</th>\n",
       "      <td>10</td>\n",
       "      <td>0.950376</td>\n",
       "    </tr>\n",
       "    <tr>\n",
       "      <th>3</th>\n",
       "      <td>15</td>\n",
       "      <td>0.954887</td>\n",
       "    </tr>\n",
       "    <tr>\n",
       "      <th>4</th>\n",
       "      <td>20</td>\n",
       "      <td>0.951880</td>\n",
       "    </tr>\n",
       "    <tr>\n",
       "      <th>5</th>\n",
       "      <td>25</td>\n",
       "      <td>0.959398</td>\n",
       "    </tr>\n",
       "    <tr>\n",
       "      <th>6</th>\n",
       "      <td>30</td>\n",
       "      <td>0.956391</td>\n",
       "    </tr>\n",
       "    <tr>\n",
       "      <th>7</th>\n",
       "      <td>40</td>\n",
       "      <td>0.954887</td>\n",
       "    </tr>\n",
       "    <tr>\n",
       "      <th>8</th>\n",
       "      <td>50</td>\n",
       "      <td>0.956391</td>\n",
       "    </tr>\n",
       "    <tr>\n",
       "      <th>9</th>\n",
       "      <td>60</td>\n",
       "      <td>0.956391</td>\n",
       "    </tr>\n",
       "    <tr>\n",
       "      <th>10</th>\n",
       "      <td>70</td>\n",
       "      <td>0.954887</td>\n",
       "    </tr>\n",
       "    <tr>\n",
       "      <th>11</th>\n",
       "      <td>80</td>\n",
       "      <td>0.957895</td>\n",
       "    </tr>\n",
       "    <tr>\n",
       "      <th>12</th>\n",
       "      <td>90</td>\n",
       "      <td>0.956391</td>\n",
       "    </tr>\n",
       "    <tr>\n",
       "      <th>13</th>\n",
       "      <td>100</td>\n",
       "      <td>0.956391</td>\n",
       "    </tr>\n",
       "    <tr>\n",
       "      <th>14</th>\n",
       "      <td>110</td>\n",
       "      <td>0.956391</td>\n",
       "    </tr>\n",
       "    <tr>\n",
       "      <th>15</th>\n",
       "      <td>120</td>\n",
       "      <td>0.956391</td>\n",
       "    </tr>\n",
       "    <tr>\n",
       "      <th>16</th>\n",
       "      <td>130</td>\n",
       "      <td>0.957895</td>\n",
       "    </tr>\n",
       "    <tr>\n",
       "      <th>17</th>\n",
       "      <td>140</td>\n",
       "      <td>0.959398</td>\n",
       "    </tr>\n",
       "    <tr>\n",
       "      <th>18</th>\n",
       "      <td>150</td>\n",
       "      <td>0.956391</td>\n",
       "    </tr>\n",
       "    <tr>\n",
       "      <th>19</th>\n",
       "      <td>200</td>\n",
       "      <td>0.954887</td>\n",
       "    </tr>\n",
       "    <tr>\n",
       "      <th>20</th>\n",
       "      <td>250</td>\n",
       "      <td>0.956391</td>\n",
       "    </tr>\n",
       "    <tr>\n",
       "      <th>21</th>\n",
       "      <td>500</td>\n",
       "      <td>0.957895</td>\n",
       "    </tr>\n",
       "  </tbody>\n",
       "</table>\n",
       "</div>"
      ],
      "text/plain": [
       "   param_n_estimators  mean_test_score\n",
       "0                   1         0.911278\n",
       "1                   5         0.953383\n",
       "2                  10         0.950376\n",
       "3                  15         0.954887\n",
       "4                  20         0.951880\n",
       "5                  25         0.959398\n",
       "6                  30         0.956391\n",
       "7                  40         0.954887\n",
       "8                  50         0.956391\n",
       "9                  60         0.956391\n",
       "10                 70         0.954887\n",
       "11                 80         0.957895\n",
       "12                 90         0.956391\n",
       "13                100         0.956391\n",
       "14                110         0.956391\n",
       "15                120         0.956391\n",
       "16                130         0.957895\n",
       "17                140         0.959398\n",
       "18                150         0.956391\n",
       "19                200         0.954887\n",
       "20                250         0.956391\n",
       "21                500         0.957895"
      ]
     },
     "execution_count": 26,
     "metadata": {},
     "output_type": "execute_result"
    }
   ],
   "source": [
    "from sklearn.ensemble import RandomForestClassifier\n",
    "\n",
    "rs_2 = RandomizedSearchCV(RandomForestClassifier(), {\n",
    "        'n_estimators': [1,5,10,15, 20, 25, 30,40,50,60,70,80,90,100,110,120,130,140,150,200,250,500],\n",
    "    }, \n",
    "                          \n",
    "    cv=5, \n",
    "    n_iter= 22,\n",
    "    n_jobs = -1,   #use all processors in parallel\n",
    "    random_state = SEED,\n",
    "    verbose = 100\n",
    ")\n",
    "\n",
    "rs_2.fit(final_train, y_train)\n",
    "\n",
    "pd.DataFrame(rs_2.cv_results_)[['param_n_estimators','mean_test_score']]"
   ]
  },
  {
   "cell_type": "code",
   "execution_count": 27,
   "id": "00ef41ba",
   "metadata": {},
   "outputs": [
    {
     "name": "stdout",
     "output_type": "stream",
     "text": [
      "Best Score :  0.9593984962406015\n",
      "Best Parameters :  {'n_estimators': 25}\n"
     ]
    }
   ],
   "source": [
    "print('Best Score : ' , rs_2.best_score_)\n",
    "print('Best Parameters : ' ,rs_2.best_params_)"
   ]
  },
  {
   "cell_type": "code",
   "execution_count": 28,
   "id": "0a490f43",
   "metadata": {},
   "outputs": [
    {
     "data": {
      "text/plain": [
       "0.05585169792175293"
      ]
     },
     "execution_count": 28,
     "metadata": {},
     "output_type": "execute_result"
    }
   ],
   "source": [
    "model_rf = RandomForestClassifier(n_estimators=rs_2.best_params_.get('n_estimators'), random_state = SEED)\n",
    "\n",
    "start_time_rf = time.time()\n",
    "model_rf.fit(final_train, y_train)\n",
    "elapsed_time_rf = time.time() - start_time_rf \n",
    "\n",
    "elapsed_time_rf"
   ]
  },
  {
   "cell_type": "code",
   "execution_count": 29,
   "id": "3c9d01be",
   "metadata": {},
   "outputs": [
    {
     "data": {
      "text/plain": [
       "0.963963963963964"
      ]
     },
     "execution_count": 29,
     "metadata": {},
     "output_type": "execute_result"
    }
   ],
   "source": [
    "model_rf.score(final_test, y_test)"
   ]
  },
  {
   "cell_type": "code",
   "execution_count": 30,
   "id": "e7d7c4ad",
   "metadata": {},
   "outputs": [
    {
     "name": "stdout",
     "output_type": "stream",
     "text": [
      "\n",
      "\n",
      "Classification Report : \n",
      "\n",
      "              precision    recall  f1-score   support\n",
      "\n",
      "           0       1.00      1.00      1.00        45\n",
      "           1       0.59      0.91      0.71        11\n",
      "           2       0.99      0.95      0.97       155\n",
      "           3       1.00      1.00      1.00        11\n",
      "\n",
      "    accuracy                           0.96       222\n",
      "   macro avg       0.90      0.97      0.92       222\n",
      "weighted avg       0.97      0.96      0.97       222\n",
      "\n"
     ]
    },
    {
     "data": {
      "image/png": "[encoded data removed]",
      "text/plain": [
       "<Figure size 720x504 with 2 Axes>"
      ]
     },
     "metadata": {
      "needs_background": "light"
     },
     "output_type": "display_data"
    }
   ],
   "source": [
    "f1_score_rf =plot_results(model_rf, final_test, y_test)"
   ]
  },
  {
   "cell_type": "code",
   "execution_count": 31,
   "id": "00589d53",
   "metadata": {},
   "outputs": [
    {
     "name": "stdout",
     "output_type": "stream",
     "text": [
      "Fitting 5 folds for each of 22 candidates, totalling 110 fits\n"
     ]
    },
    {
     "data": {
      "text/html": [
       "<div>\n",
       "<style scoped>\n",
       "    .dataframe tbody tr th:only-of-type {\n",
       "        vertical-align: middle;\n",
       "    }\n",
       "\n",
       "    .dataframe tbody tr th {\n",
       "        vertical-align: top;\n",
       "    }\n",
       "\n",
       "    .dataframe thead th {\n",
       "        text-align: right;\n",
       "    }\n",
       "</style>\n",
       "<table border=\"1\" class=\"dataframe\">\n",
       "  <thead>\n",
       "    <tr style=\"text-align: right;\">\n",
       "      <th></th>\n",
       "      <th>param_n_neighbors</th>\n",
       "      <th>param_weights</th>\n",
       "      <th>mean_test_score</th>\n",
       "    </tr>\n",
       "  </thead>\n",
       "  <tbody>\n",
       "    <tr>\n",
       "      <th>0</th>\n",
       "      <td>130</td>\n",
       "      <td>uniform</td>\n",
       "      <td>0.727820</td>\n",
       "    </tr>\n",
       "    <tr>\n",
       "      <th>1</th>\n",
       "      <td>150</td>\n",
       "      <td>uniform</td>\n",
       "      <td>0.694737</td>\n",
       "    </tr>\n",
       "    <tr>\n",
       "      <th>2</th>\n",
       "      <td>120</td>\n",
       "      <td>uniform</td>\n",
       "      <td>0.742857</td>\n",
       "    </tr>\n",
       "    <tr>\n",
       "      <th>3</th>\n",
       "      <td>10</td>\n",
       "      <td>distance</td>\n",
       "      <td>0.950376</td>\n",
       "    </tr>\n",
       "    <tr>\n",
       "      <th>4</th>\n",
       "      <td>70</td>\n",
       "      <td>distance</td>\n",
       "      <td>0.950376</td>\n",
       "    </tr>\n",
       "    <tr>\n",
       "      <th>5</th>\n",
       "      <td>60</td>\n",
       "      <td>distance</td>\n",
       "      <td>0.948872</td>\n",
       "    </tr>\n",
       "    <tr>\n",
       "      <th>6</th>\n",
       "      <td>80</td>\n",
       "      <td>distance</td>\n",
       "      <td>0.950376</td>\n",
       "    </tr>\n",
       "    <tr>\n",
       "      <th>7</th>\n",
       "      <td>90</td>\n",
       "      <td>distance</td>\n",
       "      <td>0.950376</td>\n",
       "    </tr>\n",
       "    <tr>\n",
       "      <th>8</th>\n",
       "      <td>120</td>\n",
       "      <td>distance</td>\n",
       "      <td>0.951880</td>\n",
       "    </tr>\n",
       "    <tr>\n",
       "      <th>9</th>\n",
       "      <td>110</td>\n",
       "      <td>uniform</td>\n",
       "      <td>0.748872</td>\n",
       "    </tr>\n",
       "    <tr>\n",
       "      <th>10</th>\n",
       "      <td>110</td>\n",
       "      <td>distance</td>\n",
       "      <td>0.950376</td>\n",
       "    </tr>\n",
       "    <tr>\n",
       "      <th>11</th>\n",
       "      <td>140</td>\n",
       "      <td>distance</td>\n",
       "      <td>0.951880</td>\n",
       "    </tr>\n",
       "    <tr>\n",
       "      <th>12</th>\n",
       "      <td>100</td>\n",
       "      <td>uniform</td>\n",
       "      <td>0.733835</td>\n",
       "    </tr>\n",
       "    <tr>\n",
       "      <th>13</th>\n",
       "      <td>100</td>\n",
       "      <td>distance</td>\n",
       "      <td>0.950376</td>\n",
       "    </tr>\n",
       "    <tr>\n",
       "      <th>14</th>\n",
       "      <td>15</td>\n",
       "      <td>uniform</td>\n",
       "      <td>0.803008</td>\n",
       "    </tr>\n",
       "    <tr>\n",
       "      <th>15</th>\n",
       "      <td>10</td>\n",
       "      <td>uniform</td>\n",
       "      <td>0.833083</td>\n",
       "    </tr>\n",
       "    <tr>\n",
       "      <th>16</th>\n",
       "      <td>50</td>\n",
       "      <td>uniform</td>\n",
       "      <td>0.738346</td>\n",
       "    </tr>\n",
       "    <tr>\n",
       "      <th>17</th>\n",
       "      <td>30</td>\n",
       "      <td>uniform</td>\n",
       "      <td>0.751880</td>\n",
       "    </tr>\n",
       "    <tr>\n",
       "      <th>18</th>\n",
       "      <td>140</td>\n",
       "      <td>uniform</td>\n",
       "      <td>0.708271</td>\n",
       "    </tr>\n",
       "    <tr>\n",
       "      <th>19</th>\n",
       "      <td>90</td>\n",
       "      <td>uniform</td>\n",
       "      <td>0.748872</td>\n",
       "    </tr>\n",
       "    <tr>\n",
       "      <th>20</th>\n",
       "      <td>130</td>\n",
       "      <td>distance</td>\n",
       "      <td>0.951880</td>\n",
       "    </tr>\n",
       "    <tr>\n",
       "      <th>21</th>\n",
       "      <td>80</td>\n",
       "      <td>uniform</td>\n",
       "      <td>0.739850</td>\n",
       "    </tr>\n",
       "  </tbody>\n",
       "</table>\n",
       "</div>"
      ],
      "text/plain": [
       "   param_n_neighbors param_weights  mean_test_score\n",
       "0                130       uniform         0.727820\n",
       "1                150       uniform         0.694737\n",
       "2                120       uniform         0.742857\n",
       "3                 10      distance         0.950376\n",
       "4                 70      distance         0.950376\n",
       "5                 60      distance         0.948872\n",
       "6                 80      distance         0.950376\n",
       "7                 90      distance         0.950376\n",
       "8                120      distance         0.951880\n",
       "9                110       uniform         0.748872\n",
       "10               110      distance         0.950376\n",
       "11               140      distance         0.951880\n",
       "12               100       uniform         0.733835\n",
       "13               100      distance         0.950376\n",
       "14                15       uniform         0.803008\n",
       "15                10       uniform         0.833083\n",
       "16                50       uniform         0.738346\n",
       "17                30       uniform         0.751880\n",
       "18               140       uniform         0.708271\n",
       "19                90       uniform         0.748872\n",
       "20               130      distance         0.951880\n",
       "21                80       uniform         0.739850"
      ]
     },
     "execution_count": 31,
     "metadata": {},
     "output_type": "execute_result"
    }
   ],
   "source": [
    "from sklearn.neighbors import KNeighborsClassifier\n",
    "\n",
    "rs_3 = RandomizedSearchCV(KNeighborsClassifier(), {\n",
    "        'n_neighbors': [5,10,15, 20, 25, 30,40,50,60,70,80,90,100,110,120,130,140,150],\n",
    "        'weights' : ['uniform', 'distance']\n",
    "    }, \n",
    "                          \n",
    "    cv=5, \n",
    "    n_iter= 22,\n",
    "    n_jobs = -1,   #use all processors in parallel\n",
    "    random_state = SEED,\n",
    "    verbose = 100  # For displaying information\n",
    ")\n",
    "\n",
    "rs_3.fit(final_train, y_train)\n",
    "\n",
    "pd.DataFrame(rs_3.cv_results_)[['param_n_neighbors','param_weights', 'mean_test_score']]"
   ]
  },
  {
   "cell_type": "code",
   "execution_count": 32,
   "id": "da3197c6",
   "metadata": {},
   "outputs": [
    {
     "name": "stdout",
     "output_type": "stream",
     "text": [
      "Best Score :  0.9518796992481203\n",
      "Best Parameters :  {'weights': 'distance', 'n_neighbors': 120}\n"
     ]
    }
   ],
   "source": [
    "print('Best Score : ' , rs_3.best_score_)\n",
    "print('Best Parameters : ' ,rs_3.best_params_)"
   ]
  },
  {
   "cell_type": "code",
   "execution_count": 33,
   "id": "5967b00c",
   "metadata": {},
   "outputs": [
    {
     "data": {
      "text/plain": [
       "0.000997781753540039"
      ]
     },
     "execution_count": 33,
     "metadata": {},
     "output_type": "execute_result"
    }
   ],
   "source": [
    "model_knn = KNeighborsClassifier(n_neighbors=rs_3.best_params_.get('n_neighbors'), weights= rs_3.best_params_.get('weights'))\n",
    "\n",
    "start_time_knn = time.time()\n",
    "model_knn.fit(final_train, y_train)\n",
    "elapsed_time_knn = time.time() - start_time_knn \n",
    "\n",
    "elapsed_time_knn "
   ]
  },
  {
   "cell_type": "code",
   "execution_count": 34,
   "id": "8b180ffb",
   "metadata": {},
   "outputs": [
    {
     "data": {
      "text/plain": [
       "0.954954954954955"
      ]
     },
     "execution_count": 34,
     "metadata": {},
     "output_type": "execute_result"
    }
   ],
   "source": [
    "model_knn.score(final_test, y_test)"
   ]
  },
  {
   "cell_type": "code",
   "execution_count": 35,
   "id": "6cdc32da",
   "metadata": {},
   "outputs": [
    {
     "name": "stdout",
     "output_type": "stream",
     "text": [
      "\n",
      "\n",
      "Classification Report : \n",
      "\n",
      "              precision    recall  f1-score   support\n",
      "\n",
      "           0       0.96      1.00      0.98        45\n",
      "           1       0.59      0.91      0.71        11\n",
      "           2       0.99      0.94      0.97       155\n",
      "           3       1.00      1.00      1.00        11\n",
      "\n",
      "    accuracy                           0.95       222\n",
      "   macro avg       0.88      0.96      0.91       222\n",
      "weighted avg       0.97      0.95      0.96       222\n",
      "\n"
     ]
    },
    {
     "data": {
      "image/png": "[encoded data removed]",
      "text/plain": [
       "<Figure size 720x504 with 2 Axes>"
      ]
     },
     "metadata": {
      "needs_background": "light"
     },
     "output_type": "display_data"
    }
   ],
   "source": [
    "f1_score_knn = plot_results(model_knn, final_test, y_test)"
   ]
  },
  {
   "cell_type": "code",
   "execution_count": 36,
   "id": "37fe323e",
   "metadata": {},
   "outputs": [
    {
     "name": "stdout",
     "output_type": "stream",
     "text": [
      "Fitting 5 folds for each of 22 candidates, totalling 110 fits\n"
     ]
    },
    {
     "data": {
      "text/html": [
       "<div>\n",
       "<style scoped>\n",
       "    .dataframe tbody tr th:only-of-type {\n",
       "        vertical-align: middle;\n",
       "    }\n",
       "\n",
       "    .dataframe tbody tr th {\n",
       "        vertical-align: top;\n",
       "    }\n",
       "\n",
       "    .dataframe thead th {\n",
       "        text-align: right;\n",
       "    }\n",
       "</style>\n",
       "<table border=\"1\" class=\"dataframe\">\n",
       "  <thead>\n",
       "    <tr style=\"text-align: right;\">\n",
       "      <th></th>\n",
       "      <th>param_n_estimators</th>\n",
       "      <th>param_learning_rate</th>\n",
       "      <th>mean_test_score</th>\n",
       "    </tr>\n",
       "  </thead>\n",
       "  <tbody>\n",
       "    <tr>\n",
       "      <th>0</th>\n",
       "      <td>100</td>\n",
       "      <td>1</td>\n",
       "      <td>0.954887</td>\n",
       "    </tr>\n",
       "    <tr>\n",
       "      <th>1</th>\n",
       "      <td>200</td>\n",
       "      <td>0.1</td>\n",
       "      <td>0.960902</td>\n",
       "    </tr>\n",
       "    <tr>\n",
       "      <th>2</th>\n",
       "      <td>200</td>\n",
       "      <td>1</td>\n",
       "      <td>0.956391</td>\n",
       "    </tr>\n",
       "    <tr>\n",
       "      <th>3</th>\n",
       "      <td>50</td>\n",
       "      <td>0.75</td>\n",
       "      <td>0.960902</td>\n",
       "    </tr>\n",
       "    <tr>\n",
       "      <th>4</th>\n",
       "      <td>300</td>\n",
       "      <td>0.1</td>\n",
       "      <td>0.959398</td>\n",
       "    </tr>\n",
       "    <tr>\n",
       "      <th>5</th>\n",
       "      <td>10</td>\n",
       "      <td>1</td>\n",
       "      <td>0.954887</td>\n",
       "    </tr>\n",
       "    <tr>\n",
       "      <th>6</th>\n",
       "      <td>500</td>\n",
       "      <td>0.5</td>\n",
       "      <td>0.960902</td>\n",
       "    </tr>\n",
       "    <tr>\n",
       "      <th>7</th>\n",
       "      <td>200</td>\n",
       "      <td>0.25</td>\n",
       "      <td>0.960902</td>\n",
       "    </tr>\n",
       "    <tr>\n",
       "      <th>8</th>\n",
       "      <td>400</td>\n",
       "      <td>0.5</td>\n",
       "      <td>0.962406</td>\n",
       "    </tr>\n",
       "    <tr>\n",
       "      <th>9</th>\n",
       "      <td>20</td>\n",
       "      <td>0.25</td>\n",
       "      <td>0.957895</td>\n",
       "    </tr>\n",
       "    <tr>\n",
       "      <th>10</th>\n",
       "      <td>30</td>\n",
       "      <td>0.05</td>\n",
       "      <td>0.918797</td>\n",
       "    </tr>\n",
       "    <tr>\n",
       "      <th>11</th>\n",
       "      <td>500</td>\n",
       "      <td>0.25</td>\n",
       "      <td>0.960902</td>\n",
       "    </tr>\n",
       "    <tr>\n",
       "      <th>12</th>\n",
       "      <td>40</td>\n",
       "      <td>0.75</td>\n",
       "      <td>0.957895</td>\n",
       "    </tr>\n",
       "    <tr>\n",
       "      <th>13</th>\n",
       "      <td>100</td>\n",
       "      <td>0.25</td>\n",
       "      <td>0.959398</td>\n",
       "    </tr>\n",
       "    <tr>\n",
       "      <th>14</th>\n",
       "      <td>40</td>\n",
       "      <td>0.5</td>\n",
       "      <td>0.960902</td>\n",
       "    </tr>\n",
       "    <tr>\n",
       "      <th>15</th>\n",
       "      <td>300</td>\n",
       "      <td>0.75</td>\n",
       "      <td>0.959398</td>\n",
       "    </tr>\n",
       "    <tr>\n",
       "      <th>16</th>\n",
       "      <td>30</td>\n",
       "      <td>1</td>\n",
       "      <td>0.956391</td>\n",
       "    </tr>\n",
       "    <tr>\n",
       "      <th>17</th>\n",
       "      <td>30</td>\n",
       "      <td>0.75</td>\n",
       "      <td>0.956391</td>\n",
       "    </tr>\n",
       "    <tr>\n",
       "      <th>18</th>\n",
       "      <td>100</td>\n",
       "      <td>0.75</td>\n",
       "      <td>0.956391</td>\n",
       "    </tr>\n",
       "    <tr>\n",
       "      <th>19</th>\n",
       "      <td>300</td>\n",
       "      <td>0.5</td>\n",
       "      <td>0.959398</td>\n",
       "    </tr>\n",
       "    <tr>\n",
       "      <th>20</th>\n",
       "      <td>20</td>\n",
       "      <td>0.75</td>\n",
       "      <td>0.956391</td>\n",
       "    </tr>\n",
       "    <tr>\n",
       "      <th>21</th>\n",
       "      <td>50</td>\n",
       "      <td>0.25</td>\n",
       "      <td>0.959398</td>\n",
       "    </tr>\n",
       "  </tbody>\n",
       "</table>\n",
       "</div>"
      ],
      "text/plain": [
       "   param_n_estimators param_learning_rate  mean_test_score\n",
       "0                 100                   1         0.954887\n",
       "1                 200                 0.1         0.960902\n",
       "2                 200                   1         0.956391\n",
       "3                  50                0.75         0.960902\n",
       "4                 300                 0.1         0.959398\n",
       "5                  10                   1         0.954887\n",
       "6                 500                 0.5         0.960902\n",
       "7                 200                0.25         0.960902\n",
       "8                 400                 0.5         0.962406\n",
       "9                  20                0.25         0.957895\n",
       "10                 30                0.05         0.918797\n",
       "11                500                0.25         0.960902\n",
       "12                 40                0.75         0.957895\n",
       "13                100                0.25         0.959398\n",
       "14                 40                 0.5         0.960902\n",
       "15                300                0.75         0.959398\n",
       "16                 30                   1         0.956391\n",
       "17                 30                0.75         0.956391\n",
       "18                100                0.75         0.956391\n",
       "19                300                 0.5         0.959398\n",
       "20                 20                0.75         0.956391\n",
       "21                 50                0.25         0.959398"
      ]
     },
     "execution_count": 36,
     "metadata": {},
     "output_type": "execute_result"
    }
   ],
   "source": [
    "from sklearn.ensemble import GradientBoostingClassifier\n",
    "\n",
    "rs_4 = RandomizedSearchCV(GradientBoostingClassifier(), {\n",
    "        'n_estimators': [10, 20, 30,40,50,100,200,300,400,500],\n",
    "        'learning_rate' : [0.05, 0.075, 0.1, 0.25, 0.5, 0.75, 1]\n",
    "    }, \n",
    "                          \n",
    "    cv=5, \n",
    "    n_iter= 22,\n",
    "    n_jobs = -1,   #use all processors in parallel\n",
    "    random_state = SEED,\n",
    "    verbose = 100  # For displaying information\n",
    ")\n",
    "\n",
    "rs_4.fit(final_train, y_train)\n",
    "\n",
    "pd.DataFrame(rs_4.cv_results_)[['param_n_estimators','param_learning_rate','mean_test_score']]"
   ]
  },
  {
   "cell_type": "code",
   "execution_count": 37,
   "id": "dfdbddd9",
   "metadata": {},
   "outputs": [
    {
     "name": "stdout",
     "output_type": "stream",
     "text": [
      "Best Score :  0.9624060150375939\n",
      "Best Parameters :  {'n_estimators': 400, 'learning_rate': 0.5}\n"
     ]
    }
   ],
   "source": [
    "print('Best Score : ' , rs_4.best_score_)\n",
    "print('Best Parameters : ' ,rs_4.best_params_)"
   ]
  },
  {
   "cell_type": "code",
   "execution_count": 38,
   "id": "18ba574e",
   "metadata": {},
   "outputs": [
    {
     "data": {
      "text/plain": [
       "7.5018274784088135"
      ]
     },
     "execution_count": 38,
     "metadata": {},
     "output_type": "execute_result"
    }
   ],
   "source": [
    "model_gbc = GradientBoostingClassifier(n_estimators = rs_4.best_params_.get('n_estimators'), learning_rate = rs_4.best_params_.get('learning_rate'), random_state = SEED)\n",
    "\n",
    "start_time_gbc = time.time()\n",
    "model_gbc.fit(final_train, y_train)\n",
    "elapsed_time_gbc = time.time() - start_time_gbc \n",
    "elapsed_time_gbc"
   ]
  },
  {
   "cell_type": "code",
   "execution_count": 39,
   "id": "99e542a0",
   "metadata": {},
   "outputs": [
    {
     "data": {
      "text/plain": [
       "0.963963963963964"
      ]
     },
     "execution_count": 39,
     "metadata": {},
     "output_type": "execute_result"
    }
   ],
   "source": [
    "model_gbc.score(final_test, y_test)"
   ]
  },
  {
   "cell_type": "code",
   "execution_count": 40,
   "id": "f27290cb",
   "metadata": {},
   "outputs": [
    {
     "name": "stdout",
     "output_type": "stream",
     "text": [
      "\n",
      "\n",
      "Classification Report : \n",
      "\n",
      "              precision    recall  f1-score   support\n",
      "\n",
      "           0       0.96      1.00      0.98        45\n",
      "           1       0.67      0.91      0.77        11\n",
      "           2       0.99      0.95      0.97       155\n",
      "           3       1.00      1.00      1.00        11\n",
      "\n",
      "    accuracy                           0.96       222\n",
      "   macro avg       0.90      0.97      0.93       222\n",
      "weighted avg       0.97      0.96      0.97       222\n",
      "\n"
     ]
    },
    {
     "data": {
      "image/png": "[encoded data removed]",
      "text/plain": [
       "<Figure size 720x504 with 2 Axes>"
      ]
     },
     "metadata": {
      "needs_background": "light"
     },
     "output_type": "display_data"
    }
   ],
   "source": [
    "f1_score_gbc = plot_results(model_gbc, final_test, y_test)"
   ]
  },
  {
   "cell_type": "code",
   "execution_count": 41,
   "id": "0589151c",
   "metadata": {
    "scrolled": false
   },
   "outputs": [
    {
     "name": "stdout",
     "output_type": "stream",
     "text": [
      "Fitting 5 folds for each of 30 candidates, totalling 150 fits\n"
     ]
    },
    {
     "data": {
      "text/html": [
       "<div>\n",
       "<style scoped>\n",
       "    .dataframe tbody tr th:only-of-type {\n",
       "        vertical-align: middle;\n",
       "    }\n",
       "\n",
       "    .dataframe tbody tr th {\n",
       "        vertical-align: top;\n",
       "    }\n",
       "\n",
       "    .dataframe thead th {\n",
       "        text-align: right;\n",
       "    }\n",
       "</style>\n",
       "<table border=\"1\" class=\"dataframe\">\n",
       "  <thead>\n",
       "    <tr style=\"text-align: right;\">\n",
       "      <th></th>\n",
       "      <th>param_n_estimators</th>\n",
       "      <th>param_learning_rate</th>\n",
       "      <th>param_objective</th>\n",
       "      <th>mean_test_score</th>\n",
       "    </tr>\n",
       "  </thead>\n",
       "  <tbody>\n",
       "    <tr>\n",
       "      <th>0</th>\n",
       "      <td>40</td>\n",
       "      <td>1</td>\n",
       "      <td>multi:softprob</td>\n",
       "      <td>0.951880</td>\n",
       "    </tr>\n",
       "    <tr>\n",
       "      <th>1</th>\n",
       "      <td>200</td>\n",
       "      <td>0.75</td>\n",
       "      <td>multi:softmax</td>\n",
       "      <td>0.951880</td>\n",
       "    </tr>\n",
       "    <tr>\n",
       "      <th>2</th>\n",
       "      <td>20</td>\n",
       "      <td>0.1</td>\n",
       "      <td>multi:softprob</td>\n",
       "      <td>0.951880</td>\n",
       "    </tr>\n",
       "    <tr>\n",
       "      <th>3</th>\n",
       "      <td>200</td>\n",
       "      <td>0.075</td>\n",
       "      <td>multi:softprob</td>\n",
       "      <td>0.951880</td>\n",
       "    </tr>\n",
       "    <tr>\n",
       "      <th>4</th>\n",
       "      <td>40</td>\n",
       "      <td>0.75</td>\n",
       "      <td>multi:softprob</td>\n",
       "      <td>0.953383</td>\n",
       "    </tr>\n",
       "    <tr>\n",
       "      <th>5</th>\n",
       "      <td>20</td>\n",
       "      <td>0.075</td>\n",
       "      <td>multi:softprob</td>\n",
       "      <td>0.944361</td>\n",
       "    </tr>\n",
       "    <tr>\n",
       "      <th>6</th>\n",
       "      <td>200</td>\n",
       "      <td>1</td>\n",
       "      <td>multi:softprob</td>\n",
       "      <td>0.957895</td>\n",
       "    </tr>\n",
       "    <tr>\n",
       "      <th>7</th>\n",
       "      <td>100</td>\n",
       "      <td>0.75</td>\n",
       "      <td>multi:softmax</td>\n",
       "      <td>0.953383</td>\n",
       "    </tr>\n",
       "    <tr>\n",
       "      <th>8</th>\n",
       "      <td>100</td>\n",
       "      <td>0.5</td>\n",
       "      <td>multi:softprob</td>\n",
       "      <td>0.953383</td>\n",
       "    </tr>\n",
       "    <tr>\n",
       "      <th>9</th>\n",
       "      <td>40</td>\n",
       "      <td>0.5</td>\n",
       "      <td>multi:softmax</td>\n",
       "      <td>0.951880</td>\n",
       "    </tr>\n",
       "    <tr>\n",
       "      <th>10</th>\n",
       "      <td>20</td>\n",
       "      <td>0.25</td>\n",
       "      <td>multi:softmax</td>\n",
       "      <td>0.950376</td>\n",
       "    </tr>\n",
       "    <tr>\n",
       "      <th>11</th>\n",
       "      <td>30</td>\n",
       "      <td>0.1</td>\n",
       "      <td>multi:softmax</td>\n",
       "      <td>0.950376</td>\n",
       "    </tr>\n",
       "    <tr>\n",
       "      <th>12</th>\n",
       "      <td>100</td>\n",
       "      <td>0.25</td>\n",
       "      <td>multi:softmax</td>\n",
       "      <td>0.953383</td>\n",
       "    </tr>\n",
       "    <tr>\n",
       "      <th>13</th>\n",
       "      <td>40</td>\n",
       "      <td>0.25</td>\n",
       "      <td>multi:softmax</td>\n",
       "      <td>0.951880</td>\n",
       "    </tr>\n",
       "    <tr>\n",
       "      <th>14</th>\n",
       "      <td>30</td>\n",
       "      <td>0.25</td>\n",
       "      <td>multi:softmax</td>\n",
       "      <td>0.953383</td>\n",
       "    </tr>\n",
       "    <tr>\n",
       "      <th>15</th>\n",
       "      <td>10</td>\n",
       "      <td>0.5</td>\n",
       "      <td>multi:softmax</td>\n",
       "      <td>0.956391</td>\n",
       "    </tr>\n",
       "    <tr>\n",
       "      <th>16</th>\n",
       "      <td>50</td>\n",
       "      <td>0.75</td>\n",
       "      <td>multi:softmax</td>\n",
       "      <td>0.951880</td>\n",
       "    </tr>\n",
       "    <tr>\n",
       "      <th>17</th>\n",
       "      <td>20</td>\n",
       "      <td>0.5</td>\n",
       "      <td>multi:softprob</td>\n",
       "      <td>0.954887</td>\n",
       "    </tr>\n",
       "    <tr>\n",
       "      <th>18</th>\n",
       "      <td>50</td>\n",
       "      <td>0.5</td>\n",
       "      <td>multi:softprob</td>\n",
       "      <td>0.953383</td>\n",
       "    </tr>\n",
       "    <tr>\n",
       "      <th>19</th>\n",
       "      <td>100</td>\n",
       "      <td>0.05</td>\n",
       "      <td>multi:softmax</td>\n",
       "      <td>0.953383</td>\n",
       "    </tr>\n",
       "    <tr>\n",
       "      <th>20</th>\n",
       "      <td>20</td>\n",
       "      <td>0.05</td>\n",
       "      <td>multi:softmax</td>\n",
       "      <td>0.944361</td>\n",
       "    </tr>\n",
       "    <tr>\n",
       "      <th>21</th>\n",
       "      <td>200</td>\n",
       "      <td>0.1</td>\n",
       "      <td>multi:softmax</td>\n",
       "      <td>0.951880</td>\n",
       "    </tr>\n",
       "    <tr>\n",
       "      <th>22</th>\n",
       "      <td>20</td>\n",
       "      <td>0.5</td>\n",
       "      <td>multi:softmax</td>\n",
       "      <td>0.954887</td>\n",
       "    </tr>\n",
       "    <tr>\n",
       "      <th>23</th>\n",
       "      <td>100</td>\n",
       "      <td>0.25</td>\n",
       "      <td>multi:softprob</td>\n",
       "      <td>0.953383</td>\n",
       "    </tr>\n",
       "    <tr>\n",
       "      <th>24</th>\n",
       "      <td>30</td>\n",
       "      <td>0.075</td>\n",
       "      <td>multi:softprob</td>\n",
       "      <td>0.951880</td>\n",
       "    </tr>\n",
       "    <tr>\n",
       "      <th>25</th>\n",
       "      <td>30</td>\n",
       "      <td>0.1</td>\n",
       "      <td>multi:softprob</td>\n",
       "      <td>0.950376</td>\n",
       "    </tr>\n",
       "    <tr>\n",
       "      <th>26</th>\n",
       "      <td>50</td>\n",
       "      <td>1</td>\n",
       "      <td>multi:softmax</td>\n",
       "      <td>0.954887</td>\n",
       "    </tr>\n",
       "    <tr>\n",
       "      <th>27</th>\n",
       "      <td>100</td>\n",
       "      <td>0.1</td>\n",
       "      <td>multi:softprob</td>\n",
       "      <td>0.950376</td>\n",
       "    </tr>\n",
       "    <tr>\n",
       "      <th>28</th>\n",
       "      <td>50</td>\n",
       "      <td>0.1</td>\n",
       "      <td>multi:softmax</td>\n",
       "      <td>0.953383</td>\n",
       "    </tr>\n",
       "    <tr>\n",
       "      <th>29</th>\n",
       "      <td>40</td>\n",
       "      <td>0.1</td>\n",
       "      <td>multi:softprob</td>\n",
       "      <td>0.951880</td>\n",
       "    </tr>\n",
       "  </tbody>\n",
       "</table>\n",
       "</div>"
      ],
      "text/plain": [
       "   param_n_estimators param_learning_rate param_objective  mean_test_score\n",
       "0                  40                   1  multi:softprob         0.951880\n",
       "1                 200                0.75   multi:softmax         0.951880\n",
       "2                  20                 0.1  multi:softprob         0.951880\n",
       "3                 200               0.075  multi:softprob         0.951880\n",
       "4                  40                0.75  multi:softprob         0.953383\n",
       "5                  20               0.075  multi:softprob         0.944361\n",
       "6                 200                   1  multi:softprob         0.957895\n",
       "7                 100                0.75   multi:softmax         0.953383\n",
       "8                 100                 0.5  multi:softprob         0.953383\n",
       "9                  40                 0.5   multi:softmax         0.951880\n",
       "10                 20                0.25   multi:softmax         0.950376\n",
       "11                 30                 0.1   multi:softmax         0.950376\n",
       "12                100                0.25   multi:softmax         0.953383\n",
       "13                 40                0.25   multi:softmax         0.951880\n",
       "14                 30                0.25   multi:softmax         0.953383\n",
       "15                 10                 0.5   multi:softmax         0.956391\n",
       "16                 50                0.75   multi:softmax         0.951880\n",
       "17                 20                 0.5  multi:softprob         0.954887\n",
       "18                 50                 0.5  multi:softprob         0.953383\n",
       "19                100                0.05   multi:softmax         0.953383\n",
       "20                 20                0.05   multi:softmax         0.944361\n",
       "21                200                 0.1   multi:softmax         0.951880\n",
       "22                 20                 0.5   multi:softmax         0.954887\n",
       "23                100                0.25  multi:softprob         0.953383\n",
       "24                 30               0.075  multi:softprob         0.951880\n",
       "25                 30                 0.1  multi:softprob         0.950376\n",
       "26                 50                   1   multi:softmax         0.954887\n",
       "27                100                 0.1  multi:softprob         0.950376\n",
       "28                 50                 0.1   multi:softmax         0.953383\n",
       "29                 40                 0.1  multi:softprob         0.951880"
      ]
     },
     "execution_count": 41,
     "metadata": {},
     "output_type": "execute_result"
    }
   ],
   "source": [
    "from xgboost import XGBClassifier\n",
    "\n",
    "rs_5 = RandomizedSearchCV(XGBClassifier(eval_metric = 'mlogloss', num_class = 4), {\n",
    "        'objective' : ['multi:softmax','multi:softprob'],\n",
    "        'n_estimators': [10, 20, 30,40,50,100,200],\n",
    "        'learning_rate' : [0.05, 0.075, 0.1, 0.25, 0.5, 0.75, 1]\n",
    "    }, \n",
    "    cv=5, \n",
    "    n_iter= 30,\n",
    "    n_jobs = -1,   #use all processors in parallel\n",
    "    random_state = SEED,\n",
    "    verbose = 100  # For displaying information\n",
    ")\n",
    "\n",
    "rs_5.fit(final_train, y_train)\n",
    "\n",
    "pd.DataFrame(rs_5.cv_results_)[['param_n_estimators','param_learning_rate','param_objective','mean_test_score']]"
   ]
  },
  {
   "cell_type": "code",
   "execution_count": 42,
   "id": "688e0566",
   "metadata": {},
   "outputs": [
    {
     "name": "stdout",
     "output_type": "stream",
     "text": [
      "Best Score :  0.9578947368421054\n",
      "Best Parameters :  {'objective': 'multi:softprob', 'n_estimators': 200, 'learning_rate': 1}\n"
     ]
    }
   ],
   "source": [
    "print('Best Score : ' , rs_5.best_score_)\n",
    "print('Best Parameters : ' ,rs_5.best_params_)"
   ]
  },
  {
   "cell_type": "code",
   "execution_count": 43,
   "id": "ad69f915",
   "metadata": {
    "scrolled": false
   },
   "outputs": [
    {
     "data": {
      "text/plain": [
       "0.7086100578308105"
      ]
     },
     "execution_count": 43,
     "metadata": {},
     "output_type": "execute_result"
    }
   ],
   "source": [
    "model_xgbc = XGBClassifier(n_estimators = rs_5.best_params_.get('n_estimators'), learning_rate = rs_5.best_params_.get('learning_rate'), objective = rs_5.best_params_.get('objective'), eval_metric = 'mlogloss', random_state = SEED,  num_class = 4)\n",
    "\n",
    "start_time_xgbc = time.time()\n",
    "model_xgbc.fit(final_train, y_train)\n",
    "elapsed_time_xgbc = time.time() - start_time_xgbc \n",
    "elapsed_time_xgbc"
   ]
  },
  {
   "cell_type": "code",
   "execution_count": 44,
   "id": "faaf0d3f",
   "metadata": {},
   "outputs": [
    {
     "data": {
      "text/plain": [
       "0.9594594594594594"
      ]
     },
     "execution_count": 44,
     "metadata": {},
     "output_type": "execute_result"
    }
   ],
   "source": [
    "model_xgbc.score(final_test, y_test)"
   ]
  },
  {
   "cell_type": "code",
   "execution_count": 45,
   "id": "b96905bc",
   "metadata": {},
   "outputs": [
    {
     "name": "stdout",
     "output_type": "stream",
     "text": [
      "\n",
      "\n",
      "Classification Report : \n",
      "\n",
      "              precision    recall  f1-score   support\n",
      "\n",
      "           0       0.96      1.00      0.98        45\n",
      "           1       0.62      0.91      0.74        11\n",
      "           2       0.99      0.95      0.97       155\n",
      "           3       1.00      1.00      1.00        11\n",
      "\n",
      "    accuracy                           0.96       222\n",
      "   macro avg       0.89      0.96      0.92       222\n",
      "weighted avg       0.97      0.96      0.96       222\n",
      "\n"
     ]
    },
    {
     "data": {
      "image/png": "[encoded data removed]",
      "text/plain": [
       "<Figure size 720x504 with 2 Axes>"
      ]
     },
     "metadata": {
      "needs_background": "light"
     },
     "output_type": "display_data"
    }
   ],
   "source": [
    "f1_score_xgbc =plot_results(model_xgbc, final_test, y_test)"
   ]
  },
  {
   "cell_type": "code",
   "execution_count": 46,
   "id": "60c8894e",
   "metadata": {},
   "outputs": [
    {
     "name": "stdout",
     "output_type": "stream",
     "text": [
      "Fitting 5 folds for each of 30 candidates, totalling 150 fits\n"
     ]
    },
    {
     "data": {
      "text/html": [
       "<div>\n",
       "<style scoped>\n",
       "    .dataframe tbody tr th:only-of-type {\n",
       "        vertical-align: middle;\n",
       "    }\n",
       "\n",
       "    .dataframe tbody tr th {\n",
       "        vertical-align: top;\n",
       "    }\n",
       "\n",
       "    .dataframe thead th {\n",
       "        text-align: right;\n",
       "    }\n",
       "</style>\n",
       "<table border=\"1\" class=\"dataframe\">\n",
       "  <thead>\n",
       "    <tr style=\"text-align: right;\">\n",
       "      <th></th>\n",
       "      <th>param_n_estimators</th>\n",
       "      <th>param_learning_rate</th>\n",
       "      <th>mean_test_score</th>\n",
       "    </tr>\n",
       "  </thead>\n",
       "  <tbody>\n",
       "    <tr>\n",
       "      <th>0</th>\n",
       "      <td>40</td>\n",
       "      <td>0.001</td>\n",
       "      <td>0.685714</td>\n",
       "    </tr>\n",
       "    <tr>\n",
       "      <th>1</th>\n",
       "      <td>50</td>\n",
       "      <td>0.25</td>\n",
       "      <td>0.953383</td>\n",
       "    </tr>\n",
       "    <tr>\n",
       "      <th>2</th>\n",
       "      <td>30</td>\n",
       "      <td>0.75</td>\n",
       "      <td>0.900752</td>\n",
       "    </tr>\n",
       "    <tr>\n",
       "      <th>3</th>\n",
       "      <td>200</td>\n",
       "      <td>0.001</td>\n",
       "      <td>0.685714</td>\n",
       "    </tr>\n",
       "    <tr>\n",
       "      <th>4</th>\n",
       "      <td>100</td>\n",
       "      <td>1</td>\n",
       "      <td>0.645113</td>\n",
       "    </tr>\n",
       "    <tr>\n",
       "      <th>5</th>\n",
       "      <td>30</td>\n",
       "      <td>0.05</td>\n",
       "      <td>0.939850</td>\n",
       "    </tr>\n",
       "    <tr>\n",
       "      <th>6</th>\n",
       "      <td>10</td>\n",
       "      <td>0.001</td>\n",
       "      <td>0.685714</td>\n",
       "    </tr>\n",
       "    <tr>\n",
       "      <th>7</th>\n",
       "      <td>10</td>\n",
       "      <td>0.5</td>\n",
       "      <td>0.950376</td>\n",
       "    </tr>\n",
       "    <tr>\n",
       "      <th>8</th>\n",
       "      <td>200</td>\n",
       "      <td>0.25</td>\n",
       "      <td>0.954887</td>\n",
       "    </tr>\n",
       "    <tr>\n",
       "      <th>9</th>\n",
       "      <td>30</td>\n",
       "      <td>0.5</td>\n",
       "      <td>0.950376</td>\n",
       "    </tr>\n",
       "    <tr>\n",
       "      <th>10</th>\n",
       "      <td>40</td>\n",
       "      <td>0.25</td>\n",
       "      <td>0.951880</td>\n",
       "    </tr>\n",
       "    <tr>\n",
       "      <th>11</th>\n",
       "      <td>50</td>\n",
       "      <td>0.75</td>\n",
       "      <td>0.900752</td>\n",
       "    </tr>\n",
       "    <tr>\n",
       "      <th>12</th>\n",
       "      <td>10</td>\n",
       "      <td>0.25</td>\n",
       "      <td>0.951880</td>\n",
       "    </tr>\n",
       "    <tr>\n",
       "      <th>13</th>\n",
       "      <td>100</td>\n",
       "      <td>0.001</td>\n",
       "      <td>0.685714</td>\n",
       "    </tr>\n",
       "    <tr>\n",
       "      <th>14</th>\n",
       "      <td>10</td>\n",
       "      <td>1</td>\n",
       "      <td>0.682707</td>\n",
       "    </tr>\n",
       "    <tr>\n",
       "      <th>15</th>\n",
       "      <td>200</td>\n",
       "      <td>0.5</td>\n",
       "      <td>0.954887</td>\n",
       "    </tr>\n",
       "    <tr>\n",
       "      <th>16</th>\n",
       "      <td>40</td>\n",
       "      <td>0.05</td>\n",
       "      <td>0.950376</td>\n",
       "    </tr>\n",
       "    <tr>\n",
       "      <th>17</th>\n",
       "      <td>100</td>\n",
       "      <td>0.25</td>\n",
       "      <td>0.954887</td>\n",
       "    </tr>\n",
       "    <tr>\n",
       "      <th>18</th>\n",
       "      <td>20</td>\n",
       "      <td>0.25</td>\n",
       "      <td>0.951880</td>\n",
       "    </tr>\n",
       "    <tr>\n",
       "      <th>19</th>\n",
       "      <td>40</td>\n",
       "      <td>0.075</td>\n",
       "      <td>0.951880</td>\n",
       "    </tr>\n",
       "    <tr>\n",
       "      <th>20</th>\n",
       "      <td>200</td>\n",
       "      <td>0.75</td>\n",
       "      <td>0.900752</td>\n",
       "    </tr>\n",
       "    <tr>\n",
       "      <th>21</th>\n",
       "      <td>100</td>\n",
       "      <td>0.025</td>\n",
       "      <td>0.953383</td>\n",
       "    </tr>\n",
       "    <tr>\n",
       "      <th>22</th>\n",
       "      <td>200</td>\n",
       "      <td>0.1</td>\n",
       "      <td>0.951880</td>\n",
       "    </tr>\n",
       "    <tr>\n",
       "      <th>23</th>\n",
       "      <td>40</td>\n",
       "      <td>1</td>\n",
       "      <td>0.646617</td>\n",
       "    </tr>\n",
       "    <tr>\n",
       "      <th>24</th>\n",
       "      <td>40</td>\n",
       "      <td>0.025</td>\n",
       "      <td>0.920301</td>\n",
       "    </tr>\n",
       "    <tr>\n",
       "      <th>25</th>\n",
       "      <td>100</td>\n",
       "      <td>0.75</td>\n",
       "      <td>0.902256</td>\n",
       "    </tr>\n",
       "    <tr>\n",
       "      <th>26</th>\n",
       "      <td>40</td>\n",
       "      <td>0.75</td>\n",
       "      <td>0.902256</td>\n",
       "    </tr>\n",
       "    <tr>\n",
       "      <th>27</th>\n",
       "      <td>100</td>\n",
       "      <td>0.5</td>\n",
       "      <td>0.954887</td>\n",
       "    </tr>\n",
       "    <tr>\n",
       "      <th>28</th>\n",
       "      <td>100</td>\n",
       "      <td>0.1</td>\n",
       "      <td>0.953383</td>\n",
       "    </tr>\n",
       "    <tr>\n",
       "      <th>29</th>\n",
       "      <td>20</td>\n",
       "      <td>0.75</td>\n",
       "      <td>0.903759</td>\n",
       "    </tr>\n",
       "  </tbody>\n",
       "</table>\n",
       "</div>"
      ],
      "text/plain": [
       "   param_n_estimators param_learning_rate  mean_test_score\n",
       "0                  40               0.001         0.685714\n",
       "1                  50                0.25         0.953383\n",
       "2                  30                0.75         0.900752\n",
       "3                 200               0.001         0.685714\n",
       "4                 100                   1         0.645113\n",
       "5                  30                0.05         0.939850\n",
       "6                  10               0.001         0.685714\n",
       "7                  10                 0.5         0.950376\n",
       "8                 200                0.25         0.954887\n",
       "9                  30                 0.5         0.950376\n",
       "10                 40                0.25         0.951880\n",
       "11                 50                0.75         0.900752\n",
       "12                 10                0.25         0.951880\n",
       "13                100               0.001         0.685714\n",
       "14                 10                   1         0.682707\n",
       "15                200                 0.5         0.954887\n",
       "16                 40                0.05         0.950376\n",
       "17                100                0.25         0.954887\n",
       "18                 20                0.25         0.951880\n",
       "19                 40               0.075         0.951880\n",
       "20                200                0.75         0.900752\n",
       "21                100               0.025         0.953383\n",
       "22                200                 0.1         0.951880\n",
       "23                 40                   1         0.646617\n",
       "24                 40               0.025         0.920301\n",
       "25                100                0.75         0.902256\n",
       "26                 40                0.75         0.902256\n",
       "27                100                 0.5         0.954887\n",
       "28                100                 0.1         0.953383\n",
       "29                 20                0.75         0.903759"
      ]
     },
     "execution_count": 46,
     "metadata": {},
     "output_type": "execute_result"
    }
   ],
   "source": [
    "from lightgbm import LGBMClassifier\n",
    "\n",
    "rs_6 = RandomizedSearchCV(LGBMClassifier(objective = 'multiclass',  num_classes = 4), {\n",
    "        'n_estimators': [10, 20, 30,40,50,100,200],\n",
    "        'learning_rate' : [0.05, 0.075, 0.025, 0.001, 0.1, 0.25, 0.5, 0.75, 1]\n",
    "    }, \n",
    "    cv=5, \n",
    "    n_iter= 30,\n",
    "    n_jobs = -1,   #use all processors in parallel\n",
    "    random_state = SEED,\n",
    "    verbose = 100  # For displaying information\n",
    ")\n",
    "\n",
    "rs_6.fit(final_train, y_train)\n",
    "\n",
    "pd.DataFrame(rs_6.cv_results_)[['param_n_estimators','param_learning_rate','mean_test_score']]"
   ]
  },
  {
   "cell_type": "code",
   "execution_count": 47,
   "id": "2a0cb2bc",
   "metadata": {},
   "outputs": [
    {
     "name": "stdout",
     "output_type": "stream",
     "text": [
      "Best Score :  0.9548872180451129\n",
      "Best Parameters :  {'n_estimators': 100, 'learning_rate': 0.5}\n"
     ]
    }
   ],
   "source": [
    "print('Best Score : ' , rs_6.best_score_)\n",
    "print('Best Parameters : ' ,rs_6.best_params_)"
   ]
  },
  {
   "cell_type": "code",
   "execution_count": 48,
   "id": "58bad84d",
   "metadata": {},
   "outputs": [],
   "source": [
    "model_lgbm = LGBMClassifier(n_estimators=rs_6.best_params_.get('n_estimators'),\n",
    "                      random_state=SEED, objective = 'multiclass',learning_rate = rs_6.best_params_.get('learning_rate'),  num_classes = 4)"
   ]
  },
  {
   "cell_type": "code",
   "execution_count": 49,
   "id": "11e8cd62",
   "metadata": {
    "scrolled": false
   },
   "outputs": [
    {
     "data": {
      "text/plain": [
       "0.11668753623962402"
      ]
     },
     "execution_count": 49,
     "metadata": {},
     "output_type": "execute_result"
    }
   ],
   "source": [
    "start_time_lgbm = time.time()\n",
    "model_lgbm.fit(final_train, y_train)\n",
    "elapsed_time_lgbm = time.time() - start_time_lgbm\n",
    "elapsed_time_lgbm"
   ]
  },
  {
   "cell_type": "code",
   "execution_count": 50,
   "id": "5f188a75",
   "metadata": {},
   "outputs": [
    {
     "data": {
      "text/plain": [
       "0.9594594594594594"
      ]
     },
     "execution_count": 50,
     "metadata": {},
     "output_type": "execute_result"
    }
   ],
   "source": [
    "model_lgbm.score(final_test, y_test)"
   ]
  },
  {
   "cell_type": "code",
   "execution_count": 51,
   "id": "0a83c973",
   "metadata": {},
   "outputs": [
    {
     "name": "stdout",
     "output_type": "stream",
     "text": [
      "\n",
      "\n",
      "Classification Report : \n",
      "\n",
      "              precision    recall  f1-score   support\n",
      "\n",
      "           0       0.96      1.00      0.98        45\n",
      "           1       0.62      0.91      0.74        11\n",
      "           2       0.99      0.95      0.97       155\n",
      "           3       1.00      1.00      1.00        11\n",
      "\n",
      "    accuracy                           0.96       222\n",
      "   macro avg       0.89      0.96      0.92       222\n",
      "weighted avg       0.97      0.96      0.96       222\n",
      "\n"
     ]
    },
    {
     "data": {
      "image/png": "[encoded data removed]",
      "text/plain": [
       "<Figure size 720x504 with 2 Axes>"
      ]
     },
     "metadata": {
      "needs_background": "light"
     },
     "output_type": "display_data"
    }
   ],
   "source": [
    "f1_score_lgbm = plot_results(model_lgbm, final_test, y_test)"
   ]
  },
  {
   "cell_type": "code",
   "execution_count": 52,
   "id": "955789e1",
   "metadata": {},
   "outputs": [],
   "source": [
    "accuracies = {'SVM' : model_svm.score(final_test, y_test),\n",
    "                 'kNN': model_knn.score(final_test, y_test),\n",
    "                 'RF' : model_rf.score(final_test, y_test),\n",
    "                 'gbm': model_gbc.score(final_test, y_test),\n",
    "                 'xgbm': model_xgbc.score(final_test, y_test),\n",
    "                 'lgbm' : model_lgbm.score(final_test, y_test)}\n",
    "\n",
    "models = list(accuracies.keys())\n",
    "acc = list(accuracies.values())"
   ]
  },
  {
   "cell_type": "code",
   "execution_count": 53,
   "id": "fbe735b9",
   "metadata": {},
   "outputs": [],
   "source": [
    "training_times = {'SVM' : elapsed_time_svm,\n",
    "                 'kNN': elapsed_time_knn,\n",
    "                 'RF' : elapsed_time_rf,\n",
    "                 'gbm': elapsed_time_gbc,\n",
    "                 'xgbm': elapsed_time_xgbc,\n",
    "                 'lgbm' : elapsed_time_lgbm}\n",
    "\n",
    "models = list(training_times.keys())\n",
    "t_times = list(training_times.values())"
   ]
  },
  {
   "cell_type": "code",
   "execution_count": 54,
   "id": "3afac21e",
   "metadata": {},
   "outputs": [],
   "source": [
    "f1_scores = {'SVM' : f1_score_svm,\n",
    "                 'kNN': f1_score_knn,\n",
    "                 'RF' : f1_score_rf,\n",
    "                 'gbm': f1_score_gbc,\n",
    "                 'xgbm': f1_score_xgbc,\n",
    "                 'lgbm' : f1_score_lgbm}\n",
    "\n",
    "models = list(f1_scores.keys())\n",
    "scores = list(f1_scores.values())"
   ]
  },
  {
   "cell_type": "code",
   "execution_count": 55,
   "id": "cc74c150",
   "metadata": {},
   "outputs": [],
   "source": [
    "# # saving F1 scores, accuracy and training time dictionaries in CSV files\n",
    "\n",
    "# df_training_time = pd.DataFrame.from_dict([training_times]) \n",
    "# df_training_time.to_csv (r'Training_time_seed_{}.csv'.format(SEED), header=True, index=[SEED])\n",
    "\n",
    "# df_accuracy = pd.DataFrame.from_dict([accuracies]) \n",
    "# df_accuracy.to_csv (r'Accuracy_seed_{}.csv'.format(SEED),  header=True, index=[SEED])\n",
    "\n",
    "# df_f1_score = pd.DataFrame.from_dict([f1_scores]) \n",
    "# df_f1_score.to_csv (r'f1_score_seed_{}.csv'.format(SEED),  header=True, index=[SEED])"
   ]
  },
  {
   "cell_type": "markdown",
   "id": "b461b274",
   "metadata": {},
   "source": [
    "\n",
    "#### Plotting results for 20 seeds"
   ]
  },
  {
   "cell_type": "markdown",
   "id": "bb227daf",
   "metadata": {},
   "source": [
    "#### Service 1"
   ]
  },
  {
   "cell_type": "code",
   "execution_count": 56,
   "id": "77c71e47",
   "metadata": {},
   "outputs": [],
   "source": [
    "df_accuracies_s1 = pd.read_csv('S1_FL_Accuracy.csv').mean(axis=0)\n",
    "df_F1_scores_s1 = pd.read_csv('S1_FL_F1.csv').mean(axis=0)\n",
    "df_training_times_s1 = pd.read_csv('S1_FL_TT.csv').mean(axis=0)"
   ]
  },
  {
   "cell_type": "markdown",
   "id": "9c15e063",
   "metadata": {},
   "source": [
    "#### Service 2"
   ]
  },
  {
   "cell_type": "code",
   "execution_count": 57,
   "id": "87fd6617",
   "metadata": {},
   "outputs": [],
   "source": [
    "df_accuracies_s2 = pd.read_csv('S2_FL_Accuracy.csv').mean(axis=0)\n",
    "df_F1_scores_s2 = pd.read_csv('S2_FL_F1.csv').mean(axis=0)\n",
    "df_training_times_s2 = pd.read_csv('S2_FL_TT.csv').mean(axis=0)"
   ]
  },
  {
   "cell_type": "markdown",
   "id": "10bac7c2",
   "metadata": {},
   "source": [
    "#### For Grouped Bar Plots"
   ]
  },
  {
   "cell_type": "code",
   "execution_count": 58,
   "id": "a84c3d5e",
   "metadata": {},
   "outputs": [],
   "source": [
    "models_ml = df_F1_scores_s1.keys()\n",
    "f1_Scores_service_1 = df_F1_scores_s1.values\n",
    "f1_Scores_service_2 = df_F1_scores_s2.values\n",
    "\n",
    "training_times_service_1 = df_training_times_s1.values\n",
    "training_times_service_2 = df_training_times_s2.values"
   ]
  },
  {
   "cell_type": "code",
   "execution_count": 59,
   "id": "f74d162b",
   "metadata": {
    "scrolled": false
   },
   "outputs": [
    {
     "data": {
      "image/png": "[encoded data removed]",
      "text/plain": [
       "<Figure size 720x504 with 1 Axes>"
      ]
     },
     "metadata": {
      "needs_background": "light"
     },
     "output_type": "display_data"
    }
   ],
   "source": [
    "fig, ax = plt.subplots(figsize=(10,7))\n",
    "\n",
    "# Multi bar Chart\n",
    "x_axis = np.arange(len(models_ml))\n",
    "p1 = ax.bar(x_axis -0.2, f1_Scores_service_1, width=0.4, label = 'Subnetwork 1')\n",
    "p2 = plt.bar(x_axis +0.2, f1_Scores_service_2, width=0.4, label = 'Subnetwork 2')\n",
    "\n",
    "for c in ax.containers: ax.bar_label(c, fmt='%.4f')\n",
    "    \n",
    "plt.xticks(x_axis, models_ml)\n",
    "\n",
    "# Add legend\n",
    "plt.legend(loc='upper center', bbox_to_anchor=(0.5, 1.05),\n",
    "          ncol=3, fancybox=True, shadow=True)\n",
    "\n",
    "# Display\n",
    "plt.ylabel('Macro Average F1-Score')\n",
    "plt.xlabel('Machine Learning Model')\n",
    "plt.show()"
   ]
  },
  {
   "cell_type": "code",
   "execution_count": 60,
   "id": "51cdecdc",
   "metadata": {},
   "outputs": [
    {
     "data": {
      "image/png": "[encoded data removed]",
      "text/plain": [
       "<Figure size 720x576 with 1 Axes>"
      ]
     },
     "metadata": {
      "needs_background": "light"
     },
     "output_type": "display_data"
    }
   ],
   "source": [
    "fig, ax = plt.subplots(figsize=(10,8))\n",
    "\n",
    "# Multi bar Chart\n",
    "x_axis = np.arange(len(models_ml))\n",
    "\n",
    "p1 = ax.bar(x_axis -0.2, training_times_service_1, width=0.4, label = 'Subnetwork 1')\n",
    "   \n",
    "p2 = plt.bar(x_axis +0.2, training_times_service_2, width=0.4, label = 'Subnetwork 2')\n",
    "\n",
    "for c in ax.containers: ax.bar_label(c, fmt='%.3f')\n",
    "\n",
    "plt.xticks(x_axis, models_ml)\n",
    "\n",
    "# Add legend\n",
    "\n",
    "plt.legend()\n",
    "\n",
    "# Display\n",
    "plt.ylabel('Training Time (seconds)')\n",
    "plt.xlabel('Machine Learning Model')\n",
    "plt.show()"
   ]
  },
  {
   "cell_type": "code",
   "execution_count": null,
   "id": "bc8f5de1",
   "metadata": {},
   "outputs": [],
   "source": []
  }
 ],
 "metadata": {
  "kernelspec": {
   "display_name": "Python 3 (ipykernel)",
   "language": "python",
   "name": "python3"
  },
  "language_info": {
   "codemirror_mode": {
    "name": "ipython",
    "version": 3
   },
   "file_extension": ".py",
   "mimetype": "text/x-python",
   "name": "python",
   "nbconvert_exporter": "python",
   "pygments_lexer": "ipython3",
   "version": "3.9.7"
  }
 },
 "nbformat": 4,
 "nbformat_minor": 5
}
